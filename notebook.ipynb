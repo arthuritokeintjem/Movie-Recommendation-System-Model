{
 "cells": [
  {
   "cell_type": "markdown",
   "id": "fd36dc7a",
   "metadata": {},
   "source": [
    "# **Proyek Akhir: Membuat Model Sistem Rekomendasi Film**\n",
    "\n",
    "- Nama: Arthurito Keintjem\n",
    "- Email: keintjemarthurito@gmail.com\n",
    "- ID Dicoding: arthuritokeintjem"
   ]
  },
  {
   "cell_type": "markdown",
   "id": "61f803a1",
   "metadata": {},
   "source": [
    "## **1. Project Overview**\n",
    "\n",
    "Sistem rekomendasi adalah salah satu aplikasi *machine learning* yang paling populer dan banyak digunakan dalam berbagai platform digital. Dalam industri hiburan, khususnya film, sistem rekomendasi memainkan peran krusial dalam membantu pengguna menemukan film yang sesuai dengan preferensi mereka di tengah banyaknya pilihan yang tersedia. Proyek ini bertujuan untuk membangun model sistem rekomendasi film menggunakan dataset `filmtv_movies.csv`. Dua pendekatan utama akan dieksplorasi: *Content-Based Filtering* dan pendekatan kedua yang memanfaatkan fitur-fitur numerik dan kategorikal film sebagai alternatif karena ketiadaan data rating eksplisit pengguna."
   ]
  },
  {
   "cell_type": "markdown",
   "id": "35489951",
   "metadata": {},
   "source": [
    "## **2. Business Understanding**\n",
    "\n",
    "### **Problem Statements**\n",
    "- Pengguna seringkali kesulitan menemukan film baru yang menarik dan sesuai dengan selera mereka dari katalog film yang sangat besar.\n",
    "- Platform penyedia layanan film ingin meningkatkan _engagement_ pengguna dan durasi waktu yang dihabiskan di platform dengan menyajikan rekomendasi yang relevan.\n",
    "\n",
    "### **Goals**\n",
    "- Mengembangkan model sistem rekomendasi yang mampu memberikan daftar film yang dipersonalisasi kepada pengguna (atau berdasarkan film input).\n",
    "- Meningkatkan kepuasan pengguna dengan menyajikan rekomendasi film yang relevan dan beragam.\n",
    "\n",
    "### **Solution Approach**\n",
    "Untuk mencapai tujuan tersebut, dua pendekatan solusi akan diimplementasikan:\n",
    "1.  **Content-Based Filtering**: Merekomendasikan film berdasarkan kemiripan konten (fitur tekstual seperti genre, deskripsi, aktor, sutradara) dengan film yang pernah disukai atau sedang dilihat pengguna. Pendekatan ini dipilih karena dapat memberikan rekomendasi bahkan untuk item baru atau pengguna baru (dengan preferensi awal) dan tidak bergantung pada data interaksi pengguna yang banyak.\n",
    "2.  **Attribute-Based/Item Similarity Filtering**: Merekomendasikan film berdasarkan kemiripan atribut-atribut numerik dan kategorikal spesifik (seperti skor humor, tensi, genre, `avg_vote`) antar film. Pendekatan ini dipilih sebagai alternatif atau pelengkap dari Content-Based Filtering berbasis teks, dan juga karena dataset tidak memiliki data interaksi pengguna-item eksplisit (seperti matriks rating pengguna-film) yang memadai untuk *Collaborative Filtering* tradisional. Ini memungkinkan kita memanfaatkan fitur-fitur kuantitatif dan kualitatif film yang ada."
   ]
  },
  {
   "cell_type": "markdown",
   "id": "3a9b1380",
   "metadata": {},
   "source": [
    "## **3. Data Understanding**\n",
    "\n",
    "Tahap ini bertujuan untuk memahami dataset yang akan digunakan. Pemahaman data yang baik adalah fondasi untuk tahap-tahap selanjutnya seperti persiapan data dan pemodelan."
   ]
  },
  {
   "cell_type": "markdown",
   "id": "1134e690",
   "metadata": {},
   "source": [
    "### **3.1. Data Loading**"
   ]
  },
  {
   "cell_type": "markdown",
   "id": "d5b0db32",
   "metadata": {},
   "source": [
    "#### **Mengimpor Library yang Dibutuhkan**\n",
    "Sel kode berikut mengimpor semua library Python yang diperlukan untuk analisis data, pra-pemrosesan, pemodelan, dan visualisasi.\n",
    "- `pandas` untuk manipulasi data (DataFrame).\n",
    "- `numpy` untuk operasi numerik.\n",
    "- `matplotlib.pyplot` dan `seaborn` untuk visualisasi data.\n",
    "- `TfidfVectorizer` dari `sklearn.feature_extraction.text` untuk mengubah teks menjadi vektor fitur TF-IDF.\n",
    "- `cosine_similarity` dari `sklearn.metrics.pairwise` untuk menghitung kemiripan kosinus antar vektor.\n",
    "- `MinMaxScaler` dari `sklearn.preprocessing` untuk normalisasi fitur numerik."
   ]
  },
  {
   "cell_type": "code",
   "execution_count": 1,
   "id": "f0e0895f",
   "metadata": {},
   "outputs": [],
   "source": [
    "import pandas as pd\n",
    "import numpy as np\n",
    "import matplotlib.pyplot as plt\n",
    "import seaborn as sns\n",
    "from sklearn.feature_extraction.text import TfidfVectorizer\n",
    "from sklearn.metrics.pairwise import cosine_similarity\n",
    "from sklearn.preprocessing import MinMaxScaler"
   ]
  },
  {
   "cell_type": "markdown",
   "id": "b819c50d",
   "metadata": {},
   "source": [
    "#### **Memuat Dataset**\n",
    "Dataset yang digunakan adalah `filmtv_movies.csv`. Sel ini akan memuat dataset ke dalam DataFrame pandas. Terdapat penanganan error jika file tidak ditemukan."
   ]
  },
  {
   "cell_type": "code",
   "execution_count": 2,
   "id": "5e3a5a31",
   "metadata": {},
   "outputs": [
    {
     "name": "stdout",
     "output_type": "stream",
     "text": [
      "Dataset berhasil dimuat.\n",
      "Shape of dataset (jumlah baris, jumlah kolom): (41399, 19)\n"
     ]
    }
   ],
   "source": [
    "# Load the dataset\n",
    "# Pastikan file 'filmtv_movies.csv' berada di direktori yang sama dengan notebook ini,\n",
    "# atau sediakan path lengkap ke file tersebut.\n",
    "try:\n",
    "    df = pd.read_csv('filmtv_movies.csv')\n",
    "except FileNotFoundError:\n",
    "    print(\"File 'filmtv_movies.csv' tidak ditemukan. Pastikan file ada di direktori yang benar.\")\n",
    "    # Membuat DataFrame kosong untuk menghindari error lebih lanjut jika file tidak ditemukan\n",
    "    df = pd.DataFrame()\n",
    "\n",
    "if not df.empty:\n",
    "    print(\"Dataset berhasil dimuat.\")\n",
    "    print(\"Shape of dataset (jumlah baris, jumlah kolom):\", df.shape)\n",
    "else:\n",
    "    print(\"Dataset kosong karena file tidak ditemukan atau gagal dimuat.\")"
   ]
  },
  {
   "cell_type": "markdown",
   "id": "c1e39777",
   "metadata": {},
   "source": [
    "### **3.2. Informasi Dasar Dataset**"
   ]
  },
  {
   "cell_type": "markdown",
   "id": "3783dd0f",
   "metadata": {},
   "source": [
    "#### **Menampilkan Informasi Umum dan Sampel Data**\n",
    "Sel ini akan menampilkan informasi ringkas tentang DataFrame, termasuk tipe data setiap kolom dan jumlah nilai non-null. Selain itu, lima baris pertama data akan ditampilkan menggunakan `df.head()` untuk mendapatkan gambaran awal tentang isi dataset."
   ]
  },
  {
   "cell_type": "code",
   "execution_count": 3,
   "id": "aacfc0bb",
   "metadata": {},
   "outputs": [
    {
     "name": "stdout",
     "output_type": "stream",
     "text": [
      "Informasi Dataset:\n",
      "<class 'pandas.core.frame.DataFrame'>\n",
      "RangeIndex: 41399 entries, 0 to 41398\n",
      "Data columns (total 19 columns):\n",
      " #   Column        Non-Null Count  Dtype  \n",
      "---  ------        --------------  -----  \n",
      " 0   filmtv_id     41399 non-null  int64  \n",
      " 1   title         41399 non-null  object \n",
      " 2   year          41399 non-null  int64  \n",
      " 3   genre         41304 non-null  object \n",
      " 4   duration      41399 non-null  int64  \n",
      " 5   country       41389 non-null  object \n",
      " 6   directors     41365 non-null  object \n",
      " 7   actors        39272 non-null  object \n",
      " 8   avg_vote      41399 non-null  float64\n",
      " 9   critics_vote  36703 non-null  float64\n",
      " 10  public_vote   41205 non-null  float64\n",
      " 11  total_votes   41399 non-null  int64  \n",
      " 12  description   39857 non-null  object \n",
      " 13  notes         18797 non-null  object \n",
      " 14  humor         41399 non-null  int64  \n",
      " 15  rhythm        41399 non-null  int64  \n",
      " 16  effort        41399 non-null  int64  \n",
      " 17  tension       41399 non-null  int64  \n",
      " 18  erotism       41399 non-null  int64  \n",
      "dtypes: float64(3), int64(9), object(7)\n",
      "memory usage: 6.0+ MB\n",
      "\n",
      "Contoh 5 baris pertama data:\n"
     ]
    },
    {
     "data": {
      "text/html": [
       "<div>\n",
       "<style scoped>\n",
       "    .dataframe tbody tr th:only-of-type {\n",
       "        vertical-align: middle;\n",
       "    }\n",
       "\n",
       "    .dataframe tbody tr th {\n",
       "        vertical-align: top;\n",
       "    }\n",
       "\n",
       "    .dataframe thead th {\n",
       "        text-align: right;\n",
       "    }\n",
       "</style>\n",
       "<table border=\"1\" class=\"dataframe\">\n",
       "  <thead>\n",
       "    <tr style=\"text-align: right;\">\n",
       "      <th></th>\n",
       "      <th>filmtv_id</th>\n",
       "      <th>title</th>\n",
       "      <th>year</th>\n",
       "      <th>genre</th>\n",
       "      <th>duration</th>\n",
       "      <th>country</th>\n",
       "      <th>directors</th>\n",
       "      <th>actors</th>\n",
       "      <th>avg_vote</th>\n",
       "      <th>critics_vote</th>\n",
       "      <th>public_vote</th>\n",
       "      <th>total_votes</th>\n",
       "      <th>description</th>\n",
       "      <th>notes</th>\n",
       "      <th>humor</th>\n",
       "      <th>rhythm</th>\n",
       "      <th>effort</th>\n",
       "      <th>tension</th>\n",
       "      <th>erotism</th>\n",
       "    </tr>\n",
       "  </thead>\n",
       "  <tbody>\n",
       "    <tr>\n",
       "      <th>0</th>\n",
       "      <td>2</td>\n",
       "      <td>Bugs Bunny's Third Movie: 1001 Rabbit Tales</td>\n",
       "      <td>1982</td>\n",
       "      <td>Animation</td>\n",
       "      <td>76</td>\n",
       "      <td>United States</td>\n",
       "      <td>David Detiege, Art Davis, Bill Perez</td>\n",
       "      <td>NaN</td>\n",
       "      <td>7.7</td>\n",
       "      <td>8.00</td>\n",
       "      <td>7.0</td>\n",
       "      <td>22</td>\n",
       "      <td>With two protruding front teeth, a slightly sl...</td>\n",
       "      <td>These are many small independent stories, whic...</td>\n",
       "      <td>3</td>\n",
       "      <td>3</td>\n",
       "      <td>0</td>\n",
       "      <td>0</td>\n",
       "      <td>0</td>\n",
       "    </tr>\n",
       "    <tr>\n",
       "      <th>1</th>\n",
       "      <td>3</td>\n",
       "      <td>18 anni tra una settimana</td>\n",
       "      <td>1991</td>\n",
       "      <td>Drama</td>\n",
       "      <td>98</td>\n",
       "      <td>Italy</td>\n",
       "      <td>Luigi Perelli</td>\n",
       "      <td>Kim Rossi Stuart, Simona Cavallari, Ennio Fant...</td>\n",
       "      <td>6.5</td>\n",
       "      <td>6.00</td>\n",
       "      <td>7.0</td>\n",
       "      <td>4</td>\n",
       "      <td>Samantha, not yet eighteen, leaves the comfort...</td>\n",
       "      <td>Luigi Perelli, the director of the \"Piovra\", o...</td>\n",
       "      <td>0</td>\n",
       "      <td>2</td>\n",
       "      <td>0</td>\n",
       "      <td>2</td>\n",
       "      <td>0</td>\n",
       "    </tr>\n",
       "    <tr>\n",
       "      <th>2</th>\n",
       "      <td>17</td>\n",
       "      <td>Ride a Wild Pony</td>\n",
       "      <td>1976</td>\n",
       "      <td>Romantic</td>\n",
       "      <td>91</td>\n",
       "      <td>United States</td>\n",
       "      <td>Don Chaffey</td>\n",
       "      <td>Michael Craig, John Meillon, Eva Griffith, Gra...</td>\n",
       "      <td>5.7</td>\n",
       "      <td>6.00</td>\n",
       "      <td>5.0</td>\n",
       "      <td>10</td>\n",
       "      <td>In the Australia of the pioneers, a boy and a ...</td>\n",
       "      <td>\"Ecological\" story with a happy ending, not wi...</td>\n",
       "      <td>1</td>\n",
       "      <td>2</td>\n",
       "      <td>1</td>\n",
       "      <td>0</td>\n",
       "      <td>0</td>\n",
       "    </tr>\n",
       "    <tr>\n",
       "      <th>3</th>\n",
       "      <td>18</td>\n",
       "      <td>Diner</td>\n",
       "      <td>1982</td>\n",
       "      <td>Comedy</td>\n",
       "      <td>95</td>\n",
       "      <td>United States</td>\n",
       "      <td>Barry Levinson</td>\n",
       "      <td>Mickey Rourke, Steve Guttenberg, Ellen Barkin,...</td>\n",
       "      <td>7.0</td>\n",
       "      <td>8.00</td>\n",
       "      <td>6.0</td>\n",
       "      <td>18</td>\n",
       "      <td>Five boys from Baltimore have a habit of meeti...</td>\n",
       "      <td>A cast of will be famous for Levinson's direct...</td>\n",
       "      <td>2</td>\n",
       "      <td>2</td>\n",
       "      <td>0</td>\n",
       "      <td>1</td>\n",
       "      <td>2</td>\n",
       "    </tr>\n",
       "    <tr>\n",
       "      <th>4</th>\n",
       "      <td>20</td>\n",
       "      <td>A che servono questi quattrini?</td>\n",
       "      <td>1942</td>\n",
       "      <td>Comedy</td>\n",
       "      <td>85</td>\n",
       "      <td>Italy</td>\n",
       "      <td>Esodo Pratelli</td>\n",
       "      <td>Eduardo De Filippo, Peppino De Filippo, Clelia...</td>\n",
       "      <td>5.9</td>\n",
       "      <td>5.33</td>\n",
       "      <td>7.0</td>\n",
       "      <td>15</td>\n",
       "      <td>With a stratagem, the penniless and somewhat p...</td>\n",
       "      <td>Taken from the play by Armando Curcio that the...</td>\n",
       "      <td>3</td>\n",
       "      <td>1</td>\n",
       "      <td>1</td>\n",
       "      <td>0</td>\n",
       "      <td>0</td>\n",
       "    </tr>\n",
       "  </tbody>\n",
       "</table>\n",
       "</div>"
      ],
      "text/plain": [
       "   filmtv_id                                        title  year      genre  \\\n",
       "0          2  Bugs Bunny's Third Movie: 1001 Rabbit Tales  1982  Animation   \n",
       "1          3                    18 anni tra una settimana  1991      Drama   \n",
       "2         17                             Ride a Wild Pony  1976   Romantic   \n",
       "3         18                                        Diner  1982     Comedy   \n",
       "4         20              A che servono questi quattrini?  1942     Comedy   \n",
       "\n",
       "   duration        country                             directors  \\\n",
       "0        76  United States  David Detiege, Art Davis, Bill Perez   \n",
       "1        98          Italy                         Luigi Perelli   \n",
       "2        91  United States                           Don Chaffey   \n",
       "3        95  United States                        Barry Levinson   \n",
       "4        85          Italy                        Esodo Pratelli   \n",
       "\n",
       "                                              actors  avg_vote  critics_vote  \\\n",
       "0                                                NaN       7.7          8.00   \n",
       "1  Kim Rossi Stuart, Simona Cavallari, Ennio Fant...       6.5          6.00   \n",
       "2  Michael Craig, John Meillon, Eva Griffith, Gra...       5.7          6.00   \n",
       "3  Mickey Rourke, Steve Guttenberg, Ellen Barkin,...       7.0          8.00   \n",
       "4  Eduardo De Filippo, Peppino De Filippo, Clelia...       5.9          5.33   \n",
       "\n",
       "   public_vote  total_votes  \\\n",
       "0          7.0           22   \n",
       "1          7.0            4   \n",
       "2          5.0           10   \n",
       "3          6.0           18   \n",
       "4          7.0           15   \n",
       "\n",
       "                                         description  \\\n",
       "0  With two protruding front teeth, a slightly sl...   \n",
       "1  Samantha, not yet eighteen, leaves the comfort...   \n",
       "2  In the Australia of the pioneers, a boy and a ...   \n",
       "3  Five boys from Baltimore have a habit of meeti...   \n",
       "4  With a stratagem, the penniless and somewhat p...   \n",
       "\n",
       "                                               notes  humor  rhythm  effort  \\\n",
       "0  These are many small independent stories, whic...      3       3       0   \n",
       "1  Luigi Perelli, the director of the \"Piovra\", o...      0       2       0   \n",
       "2  \"Ecological\" story with a happy ending, not wi...      1       2       1   \n",
       "3  A cast of will be famous for Levinson's direct...      2       2       0   \n",
       "4  Taken from the play by Armando Curcio that the...      3       1       1   \n",
       "\n",
       "   tension  erotism  \n",
       "0        0        0  \n",
       "1        2        0  \n",
       "2        0        0  \n",
       "3        1        2  \n",
       "4        0        0  "
      ]
     },
     "metadata": {},
     "output_type": "display_data"
    }
   ],
   "source": [
    "if not df.empty:\n",
    "    print(\"Informasi Dataset:\")\n",
    "    df.info()\n",
    "    print(\"\\nContoh 5 baris pertama data:\")\n",
    "    display(df.head()) # 'display' lebih baik dari 'print' untuk DataFrame di Jupyter\n",
    "else:\n",
    "    print(\"Dataset kosong, tidak ada informasi yang dapat ditampilkan.\")"
   ]
  },
  {
   "cell_type": "markdown",
   "id": "18b2cc2b",
   "metadata": {},
   "source": [
    "### **3.3. Deskripsi Variabel**\n",
    "\n",
    "Berdasarkan output `df.info()` dan `df.head()`, variabel-variabel utama dalam dataset ini adalah:\n",
    "- `filmtv_id`: ID unik untuk setiap film (Integer).\n",
    "- `title`: Judul film (Object/String).\n",
    "- `year`: Tahun rilis film (Integer).\n",
    "- `genre`: Genre film, bisa multiple dan dipisahkan koma (Object/String).\n",
    "- `duration`: Durasi film dalam menit (Integer).\n",
    "- `country`: Negara asal film, bisa multiple (Object/String).\n",
    "- `directors`: Sutradara film, bisa multiple (Object/String).\n",
    "- `actors`: Aktor utama film, bisa multiple (Object/String).\n",
    "- `avg_vote`: Rata-rata rating vote untuk film tersebut (Float).\n",
    "- `critics_vote`: Vote dari kritikus, spesifik untuk FilmTV (Float).\n",
    "- `public_vote`: Vote dari publik, spesifik untuk FilmTV (Float).\n",
    "- `total_votes`: Jumlah total vote yang diterima film (Integer).\n",
    "- `description`: Sinopsis atau deskripsi singkat film (Object/String).\n",
    "- `notes`: Catatan tambahan mengenai film (Object/String).\n",
    "- `humor`, `rhythm`, `effort`, `tension`, `erotism`: Skor numerik untuk dimensi-dimensi ini, dari 0-5 (Integer).\n",
    "\n",
    "**Sumber Data:** Dataset tersedia publik di Kaggle: **[FilmTV movies Dataset](https://www.kaggle.com/datasets/stefanoleone992/filmtv-movies-dataset)**."
   ]
  },
  {
   "cell_type": "markdown",
   "id": "e4af6596",
   "metadata": {},
   "source": [
    "### **3.4. Exploratory Data Analysis (EDA)**\n",
    "EDA dilakukan untuk lebih memahami karakteristik data, menemukan pola, anomali, dan hubungan antar variabel."
   ]
  },
  {
   "cell_type": "markdown",
   "id": "5919ad7c",
   "metadata": {},
   "source": [
    "#### **3.4.1. Pengecekan Missing Values Awal**\n",
    "Sel ini menghitung dan menampilkan jumlah missing values (NaN) untuk setiap kolom dalam dataset. Ini penting untuk mengetahui kolom mana yang memerlukan penanganan missing values di tahap Data Preparation."
   ]
  },
  {
   "cell_type": "code",
   "execution_count": 4,
   "id": "b245486d",
   "metadata": {},
   "outputs": [
    {
     "name": "stdout",
     "output_type": "stream",
     "text": [
      "Jumlah missing values per kolom (sebelum penanganan):\n",
      "filmtv_id           0\n",
      "title               0\n",
      "year                0\n",
      "genre              95\n",
      "duration            0\n",
      "country            10\n",
      "directors          34\n",
      "actors           2127\n",
      "avg_vote            0\n",
      "critics_vote     4696\n",
      "public_vote       194\n",
      "total_votes         0\n",
      "description      1542\n",
      "notes           22602\n",
      "humor               0\n",
      "rhythm              0\n",
      "effort              0\n",
      "tension             0\n",
      "erotism             0\n",
      "dtype: int64\n"
     ]
    }
   ],
   "source": [
    "if not df.empty:\n",
    "    print(\"Jumlah missing values per kolom (sebelum penanganan):\")\n",
    "    print(df.isnull().sum())\n",
    "else:\n",
    "    print(\"Dataset kosong.\")"
   ]
  },
  {
   "cell_type": "markdown",
   "id": "afc08809",
   "metadata": {},
   "source": [
    "**Observasi Missing Values Awal:**\n",
    "Terlihat ada missing values di beberapa kolom seperti `genre`, `country`, `directors`, `actors`, `description`, `notes`. Kolom `critics_vote` dan `public_vote` juga memiliki banyak missing values. Ini perlu ditangani di tahap Data Preparation."
   ]
  },
  {
   "cell_type": "markdown",
   "id": "3f8ee55a",
   "metadata": {},
   "source": [
    "#### **3.4.2. Distribusi Fitur Numerik**"
   ]
  },
  {
   "cell_type": "markdown",
   "id": "d9f73041",
   "metadata": {},
   "source": [
    "##### **Visualisasi Distribusi Fitur Numerik**\n",
    "Sel ini membuat histogram untuk fitur-fitur numerik utama untuk memahami distribusinya (misalnya, apakah distribusinya normal, miring, dsb.) dan rentang nilainya. Ini juga membantu dalam mendeteksi potensi outlier."
   ]
  },
  {
   "cell_type": "code",
   "execution_count": 5,
   "id": "71525fa2",
   "metadata": {},
   "outputs": [
    {
     "data": {
      "image/png": "[encoded data removed]",
      "text/plain": [
       "<Figure size 2000x1500 with 12 Axes>"
      ]
     },
     "metadata": {},
     "output_type": "display_data"
    }
   ],
   "source": [
    "if not df.empty:\n",
    "    numerical_cols_candidate = ['year', 'duration', 'avg_vote', 'total_votes',\n",
    "                                'humor', 'rhythm', 'effort', 'tension', 'erotism']\n",
    "    if 'critics_vote' in df.columns: numerical_cols_candidate.append('critics_vote')\n",
    "    if 'public_vote' in df.columns: numerical_cols_candidate.append('public_vote')\n",
    "\n",
    "    # Filter hanya kolom yang ada di DataFrame dan benar-benar numerik setelah potensi konversi\n",
    "    numerical_cols = []\n",
    "    for col in numerical_cols_candidate:\n",
    "        if col in df.columns:\n",
    "            # Beberapa kolom skor mungkin masih object, coba konversi lagi jika belum\n",
    "            if df[col].dtype == 'object':\n",
    "                df[col] = pd.to_numeric(df[col], errors='coerce')\n",
    "            if pd.api.types.is_numeric_dtype(df[col]):\n",
    "                numerical_cols.append(col)\n",
    "            else:\n",
    "                print(f\"Peringatan: Kolom '{col}' tidak dapat dikonversi menjadi numerik sepenuhnya dan akan dilewati dari histogram.\")\n",
    "\n",
    "    if numerical_cols:\n",
    "        df[numerical_cols].hist(bins=30, figsize=(20, 15), layout=(-1, 3))\n",
    "        plt.suptitle(\"Distribusi Fitur Numerik\", fontsize=20)\n",
    "        plt.tight_layout(rect=[0, 0, 1, 0.97]) # Adjust layout to make space for suptitle\n",
    "        plt.show()\n",
    "    else:\n",
    "        print(\"Tidak ada kolom numerik yang valid untuk ditampilkan distribusinya.\")\n",
    "else:\n",
    "    print(\"Dataset kosong.\")"
   ]
  },
  {
   "cell_type": "markdown",
   "id": "b5bfbad6",
   "metadata": {},
   "source": [
    "**Penjelasan Visualisasi Distribusi Fitur Numerik:**\n",
    "\n",
    "Visualisasi histogram fitur numerik di atas memberikan gambaran mengenai karakteristik data film dalam dataset:\n",
    "\n",
    "- **Year**: Terlihat tren peningkatan jumlah film pada tahun-tahun modern, menandakan pertumbuhan industri film dari waktu ke waktu.\n",
    "- **Duration**: Sebagian besar film berdurasi antara 90–120 menit, dengan sedikit film berdurasi sangat pendek atau sangat panjang (outlier).\n",
    "- **Avg_vote & Total_votes**: Distribusi rata-rata rating (`avg_vote`) cenderung miring ke kanan, menunjukkan lebih banyak film dengan rating menengah. Sementara `total_votes` menunjukkan sebagian besar film memiliki jumlah vote yang relatif sedikit, hanya sedikit film yang sangat populer.\n",
    "- **Skor Dimensi (humor, rhythm, effort, tension, erotism)**: Sebagian besar skor berada di rentang menengah ke rendah, menandakan tidak banyak film yang menonjol secara ekstrem pada satu dimensi tertentu. Distribusi ini juga membantu mengidentifikasi apakah ada bias penilaian pada dimensi tertentu.\n",
    "\n",
    "Secara umum, visualisasi ini membantu memahami pola umum, mendeteksi outlier, dan menjadi dasar untuk proses normalisasi serta pemilihan fitur pada tahap modeling."
   ]
  },
  {
   "cell_type": "markdown",
   "id": "8adb9281",
   "metadata": {},
   "source": [
    "#### **3.4.3. Analisis Genre**\n",
    "Sel ini menganalisis kolom `genre`, kemudian menghitung frekuensi kemunculan setiap genre. Visualisasi 20 genre teratas akan ditampilkan."
   ]
  },
  {
   "cell_type": "code",
   "execution_count": 6,
   "id": "add9c316",
   "metadata": {},
   "outputs": [
    {
     "name": "stderr",
     "output_type": "stream",
     "text": [
      "C:\\Users\\arthur_k\\AppData\\Local\\Temp\\ipykernel_26684\\2768441692.py:8: FutureWarning: \n",
      "\n",
      "Passing `palette` without assigning `hue` is deprecated and will be removed in v0.14.0. Assign the `y` variable to `hue` and set `legend=False` for the same effect.\n",
      "\n",
      "  sns.barplot(x=genre_counts.head(20).values, y=genre_counts.head(20).index, palette='viridis')\n"
     ]
    },
    {
     "data": {
      "image/png": "[encoded data removed]",
      "text/plain": [
       "<Figure size 1200x800 with 1 Axes>"
      ]
     },
     "metadata": {},
     "output_type": "display_data"
    }
   ],
   "source": [
    "# Visualisasi 20 genre teratas (setiap film hanya punya 1 genre)\n",
    "if not df.empty and 'genre' in df.columns:\n",
    "    # Hitung frekuensi genre langsung dari kolom 'genre'\n",
    "    genre_counts = df['genre'].value_counts()\n",
    "\n",
    "    # Plot 20 genre teratas\n",
    "    plt.figure(figsize=(12, 8))\n",
    "    sns.barplot(x=genre_counts.head(20).values, y=genre_counts.head(20).index, palette='viridis')\n",
    "    plt.title('Top 20 Genre Film Paling Umum')\n",
    "    plt.xlabel('Jumlah Film')\n",
    "    plt.ylabel('Genre')\n",
    "    plt.show()\n",
    "else:\n",
    "    print(\"Kolom 'genre' tidak ditemukan atau dataset kosong.\")\n",
    "\n",
    "# Penjelasan:\n",
    "# - genre_counts menghitung jumlah film untuk setiap genre.\n",
    "# - Karena setiap film hanya punya 1 genre, tidak perlu split atau flatten list.\n",
    "# - Visualisasi hanya menampilkan 20 genre teratas.\n"
   ]
  },
  {
   "cell_type": "markdown",
   "id": "eb1649df",
   "metadata": {},
   "source": [
    "**Observasi Analisis Genre:**\n",
    "Visualisasi ini menunjukkan genre film yang paling umum dalam dataset. Informasi ini berguna untuk memahami preferensi umum atau jenis film yang paling banyak diproduksi/dicatat. Genre seperti Drama, Comedy, dan Thriller kemungkinan akan mendominasi."
   ]
  },
  {
   "cell_type": "markdown",
   "id": "ed6321cf",
   "metadata": {},
   "source": [
    "## **4. Data Preparation**\n",
    "\n",
    "Tahap ini mencakup persiapan data sebelum digunakan untuk pemodelan. Proses ini krusial untuk memastikan kualitas data dan kinerja model yang optimal."
   ]
  },
  {
   "cell_type": "markdown",
   "id": "cf96c368",
   "metadata": {},
   "source": [
    "### **4.1. Penanganan Missing Values (Imputasi dan Penghapusan)**"
   ]
  },
  {
   "cell_type": "markdown",
   "id": "969f4160",
   "metadata": {},
   "source": [
    "#### **Mengisi Missing Values pada Kolom Tekstual**\n",
    "Kolom-kolom tekstual yang memiliki missing values (`NaN`) akan diisi dengan string kosong (`''`). Ini dilakukan agar operasi berbasis teks (seperti penggabungan string atau vektorisasi) tidak menghasilkan error dan semua baris memiliki input."
   ]
  },
  {
   "cell_type": "code",
   "execution_count": 7,
   "id": "90aca980",
   "metadata": {},
   "outputs": [
    {
     "name": "stdout",
     "output_type": "stream",
     "text": [
      "Missing values pada kolom teks telah diisi dengan string kosong.\n"
     ]
    }
   ],
   "source": [
    "if not df.empty:\n",
    "    text_cols_to_fill = ['genre', 'country', 'directors', 'actors', 'description', 'notes']\n",
    "    for col in text_cols_to_fill:\n",
    "        if col in df.columns:\n",
    "            df[col] = df[col].fillna('')\n",
    "    print(\"Missing values pada kolom teks telah diisi dengan string kosong.\")\n",
    "else:\n",
    "    print(\"Dataset kosong.\")"
   ]
  },
  {
   "cell_type": "markdown",
   "id": "fb4acf91",
   "metadata": {},
   "source": [
    "#### **Mengisi Missing Values pada Kolom Numerik**\n",
    "Missing values pada kolom numerik (`critics_vote`, `public_vote`) akan diisi menggunakan nilai median dari masing-masing kolom. Median dipilih karena lebih robust terhadap outlier dibandingkan mean. Sebelum imputasi, kolom skor yang mungkin masih bertipe objek akan dikonversi ke numerik."
   ]
  },
  {
   "cell_type": "code",
   "execution_count": 8,
   "id": "c6dd2327",
   "metadata": {},
   "outputs": [
    {
     "name": "stdout",
     "output_type": "stream",
     "text": [
      "Missing values pada kolom numerik telah diisi dengan median.\n"
     ]
    }
   ],
   "source": [
    "if not df.empty:\n",
    "    numerical_cols_to_fill = ['critics_vote', 'public_vote']\n",
    "    for col in numerical_cols_to_fill:\n",
    "        if col in df.columns and pd.api.types.is_numeric_dtype(df[col]): # Pastikan kolomnya numerik\n",
    "            df[col] = df[col].fillna(df[col].median())\n",
    "        elif col in df.columns: # Jika tidak numerik, coba konversi lalu isi median\n",
    "             df[col] = pd.to_numeric(df[col], errors='coerce')\n",
    "             df[col] = df[col].fillna(df[col].median())\n",
    "\n",
    "    print(\"Missing values pada kolom numerik telah diisi dengan median.\")\n",
    "else:\n",
    "    print(\"Dataset kosong.\")"
   ]
  },
  {
   "cell_type": "markdown",
   "id": "e45b2d79",
   "metadata": {},
   "source": [
    "#### **Pengecekan Missing Values Akhir**\n",
    "Setelah semua proses penanganan missing values, kita akan kembali memeriksa jumlah missing values per kolom untuk memastikan semua telah tertangani dengan baik."
   ]
  },
  {
   "cell_type": "code",
   "execution_count": 9,
   "id": "54141a02",
   "metadata": {},
   "outputs": [
    {
     "name": "stdout",
     "output_type": "stream",
     "text": [
      "\n",
      "Missing values setelah semua penanganan:\n",
      "filmtv_id       0\n",
      "title           0\n",
      "year            0\n",
      "genre           0\n",
      "duration        0\n",
      "country         0\n",
      "directors       0\n",
      "actors          0\n",
      "avg_vote        0\n",
      "critics_vote    0\n",
      "public_vote     0\n",
      "total_votes     0\n",
      "description     0\n",
      "notes           0\n",
      "humor           0\n",
      "rhythm          0\n",
      "effort          0\n",
      "tension         0\n",
      "erotism         0\n",
      "dtype: int64\n"
     ]
    }
   ],
   "source": [
    "if not df.empty:\n",
    "    print(\"\\nMissing values setelah semua penanganan:\")\n",
    "    print(df.isnull().sum())\n",
    "else:\n",
    "    print(\"Dataset kosong.\")"
   ]
  },
  {
   "cell_type": "markdown",
   "id": "66097f58",
   "metadata": {},
   "source": [
    "**Alasan Penanganan Missing Values:**\n",
    "- Mengisi kolom teks dengan string kosong mencegah error saat operasi string dan memastikan semua baris memiliki input untuk vectorizer.\n",
    "- Menggunakan median untuk mengisi NaN pada fitur numerik lebih robust terhadap outlier dan membantu mempertahankan distribusi data."
   ]
  },
  {
   "cell_type": "markdown",
   "id": "a88667b1",
   "metadata": {},
   "source": [
    "### **4.2. Feature Engineering (untuk Content-Based Filtering Model 1)**\n",
    "Kita akan membuat satu fitur teks gabungan (`soup`) yang berisi informasi penting dari beberapa kolom teks. Fitur ini akan menjadi dasar untuk model Content-Based Filtering pertama."
   ]
  },
  {
   "cell_type": "markdown",
   "id": "c166ab15",
   "metadata": {},
   "source": [
    "#### **Membuat Fitur Gabungan 'soup'**\n",
    "Fungsi `create_soup` akan menggabungkan konten dari kolom `genre`, `directors`, `actors`, `description`, dan `notes`. Untuk `directors` dan `actors`, spasi dalam nama akan dihilangkan (misalnya, \"Quentin Tarantino\" menjadi \"QuentinTarantino\") agar nama tersebut diperlakukan sebagai satu token oleh TF-IDF Vectorizer. Ini membantu membedakan nama orang dari kata-kata biasa."
   ]
  },
  {
   "cell_type": "code",
   "execution_count": 10,
   "id": "649a77fa",
   "metadata": {},
   "outputs": [
    {
     "name": "stdout",
     "output_type": "stream",
     "text": [
      "Contoh fitur 'soup' untuk 3 film pertama:\n",
      "Film 1: Animation DavidDetiege,ArtDavis,BillPerez  With two protruding front teeth, a slightly sly air and a certain penchant for carrots, Bugs Bunny is one of the most popular cartoon heroes, especially in t...\n",
      "Film 2: Drama LuigiPerelli KimRossiStuart,SimonaCavallari,EnnioFantastichini,OrsoMariaGuerrini,SilliTogni,MariaPiaCalzone,LucianoCurreli,FrancescoMariaDominedò Samantha, not yet eighteen, leaves the comforts ...\n",
      "Film 3: Romantic DonChaffey MichaelCraig,JohnMeillon,EvaGriffith,GrahamRouse,RobertBettles,AlfredBell,JohnMeillonJr. In the Australia of the pioneers, a boy and a girl live a short distance from each other, b...\n"
     ]
    }
   ],
   "source": [
    "if not df.empty:\n",
    "    def create_soup(x):\n",
    "        # Menghilangkan spasi dari nama sutradara dan aktor agar dianggap sebagai satu token\n",
    "        # dan memastikan semua komponen adalah string\n",
    "        directors_str = ''.join(str(x['directors']).split()) if pd.notnull(x['directors']) else ''\n",
    "        actors_str = ''.join(str(x['actors']).split()) if pd.notnull(x['actors']) else ''\n",
    "        genre_str = str(x['genre']) if pd.notnull(x['genre']) else ''\n",
    "        description_str = str(x['description']) if pd.notnull(x['description']) else ''\n",
    "        notes_str = str(x['notes']) if pd.notnull(x['notes']) else ''\n",
    "\n",
    "        return f\"{genre_str} {directors_str} {actors_str} {description_str} {notes_str}\"\n",
    "\n",
    "    df['soup'] = df.apply(create_soup, axis=1)\n",
    "    print(\"Contoh fitur 'soup' untuk 3 film pertama:\")\n",
    "    for i in range(min(3, len(df))):\n",
    "        print(f\"Film {i+1}: {df['soup'].iloc[i][:200]}...\") # Tampilkan 200 karakter pertama\n",
    "else:\n",
    "    print(\"Dataset kosong, fitur 'soup' tidak dapat dibuat.\")"
   ]
  },
  {
   "cell_type": "markdown",
   "id": "5dac5645",
   "metadata": {},
   "source": [
    "**Tujuan Fitur 'soup':** Fitur `soup` ini akan digunakan oleh TF-IDF Vectorizer. Dengan menggabungkan berbagai aspek tekstual film ke dalam satu representasi, kita dapat menghitung kemiripan antar film secara lebih holistik berdasarkan kontennya."
   ]
  },
  {
   "cell_type": "markdown",
   "id": "0876b85b",
   "metadata": {},
   "source": [
    "## **5. Modeling dan Result**\n",
    "Pada tahap ini, kita akan membangun dua model sistem rekomendasi yang telah direncanakan."
   ]
  },
  {
   "cell_type": "markdown",
   "id": "29bdcca5",
   "metadata": {},
   "source": [
    "#### **Vektorisasi TF-IDF dan Perhitungan Cosine Similarity**\n",
    "Model pertama menggunakan pendekatan Content-Based Filtering berdasarkan fitur `soup`.\n",
    "1.  `TfidfVectorizer` diinisialisasi untuk mengubah koleksi dokumen teks (`soup` dari setiap film) menjadi matriks fitur TF-IDF. `stop_words='english'` digunakan untuk mengabaikan kata-kata umum dalam bahasa Inggris (bisa disesuaikan jika mayoritas teks dalam bahasa lain, misal Italia).\n",
    "2.  Matriks TF-IDF kemudian digunakan untuk menghitung `cosine_similarity` antar semua pasangan film. Hasilnya adalah matriks kemiripan (cosine similarity matrix) di mana nilai `(i, j)` menunjukkan kemiripan antara film `i` dan film `j`.\n",
    "3.  Sebuah `pd.Series` (`indices_text`) dibuat untuk memetakan judul film ke indeks barisnya dalam DataFrame, yang berguna untuk pencarian cepat."
   ]
  },
  {
   "cell_type": "code",
   "execution_count": 11,
   "id": "5eef94c4",
   "metadata": {},
   "outputs": [
    {
     "name": "stdout",
     "output_type": "stream",
     "text": [
      "Shape of TF-IDF matrix (textual): (41399, 189493)\n",
      "Shape of Cosine Similarity matrix (textual): (41399, 41399)\n",
      "Jumlah judul unik untuk pemetaan indeks: 41399\n"
     ]
    }
   ],
   "source": [
    "cosine_sim_text = None\n",
    "indices_text = None\n",
    "\n",
    "if not df.empty and 'soup' in df.columns:\n",
    "    tfidf = TfidfVectorizer(stop_words='english')\n",
    "    df['soup'] = df['soup'].fillna('') # Pastikan tidak ada NaN di soup sebelum fit_transform\n",
    "    tfidf_matrix = tfidf.fit_transform(df['soup'])\n",
    "    print(\"Shape of TF-IDF matrix (textual):\", tfidf_matrix.shape)\n",
    "\n",
    "    cosine_sim_text = cosine_similarity(tfidf_matrix, tfidf_matrix)\n",
    "    print(\"Shape of Cosine Similarity matrix (textual):\", cosine_sim_text.shape)\n",
    "\n",
    "    # Membuat mapping dari judul film ke index, menangani duplikasi judul dengan mengambil yang pertama\n",
    "    indices_text = pd.Series(df.index, index=df['title']).drop_duplicates()\n",
    "    print(f\"Jumlah judul unik untuk pemetaan indeks: {len(indices_text)}\")\n",
    "else:\n",
    "    print(\"Dataset kosong atau kolom 'soup' tidak ada. Model 1 (textual) tidak dapat dibangun.\")"
   ]
  },
  {
   "cell_type": "markdown",
   "id": "793f28bf",
   "metadata": {},
   "source": [
    "#### **Fungsi untuk Mendapatkan Rekomendasi (Model 1)**\n",
    "Fungsi `get_recommendations_text_generic` mengambil judul film sebagai input, mencari film tersebut dalam matriks kemiripan, dan mengembalikan N film teratas yang paling mirip. Fungsi ini juga menangani kasus jika judul tidak ditemukan persis (mencoba partial match) atau jika ada duplikasi judul."
   ]
  },
  {
   "cell_type": "code",
   "execution_count": 12,
   "id": "3ed6a17c",
   "metadata": {},
   "outputs": [],
   "source": [
    "def get_recommendations_text_generic(title, cosine_sim_matrix, indices_map, data_df, top_n=10):\n",
    "    if cosine_sim_matrix is None or indices_map is None or data_df.empty:\n",
    "        return pd.Series([\"Model belum siap atau data tidak tersedia.\"])\n",
    "\n",
    "    processed_title = title\n",
    "    # Cek apakah judul ada di map\n",
    "    if title not in indices_map:\n",
    "        # Mencoba pencarian case-insensitive dan partial match jika judul tidak ditemukan\n",
    "        possible_matches = data_df[data_df['title'].str.contains(title, case=False, na=False)]\n",
    "        if not possible_matches.empty:\n",
    "            actual_title_match = possible_matches['title'].iloc[0]\n",
    "            # Cek apakah hasil match ada di indices_map\n",
    "            if actual_title_match in indices_map:\n",
    "                 print(f\"Judul asli '{title}' tidak ditemukan. Menggunakan '{actual_title_match}' sebagai gantinya.\")\n",
    "                 processed_title = actual_title_match\n",
    "            else:\n",
    "                 return pd.Series([f\"Film dengan judul mirip '{title}' ('{actual_title_match}') tidak ditemukan dalam pemetaan indeks.\"])\n",
    "        else:\n",
    "            return pd.Series([f\"Film dengan judul '{title}' tidak ditemukan.\"])\n",
    "\n",
    "    idx = indices_map[processed_title]\n",
    "    # Jika ada duplikat judul pada mapping (seharusnya sudah di-drop_duplicates), ambil indeks yang pertama\n",
    "    if isinstance(idx, pd.Series):\n",
    "        idx = idx.iloc[0]\n",
    "\n",
    "    # Dapatkan skor kemiripan pairwise dari semua film dengan film tersebut\n",
    "    sim_scores = list(enumerate(cosine_sim_matrix[idx]))\n",
    "    sim_scores = sorted(sim_scores, key=lambda x: x[1], reverse=True)\n",
    "\n",
    "    # Dapatkan skor dari N film paling mirip (tidak termasuk film itu sendiri, makanya 1:top_n+1)\n",
    "    sim_scores = sim_scores[1:top_n+1]\n",
    "    movie_indices = [i[0] for i in sim_scores]\n",
    "\n",
    "    return data_df['title'].iloc[movie_indices]"
   ]
  },
  {
   "cell_type": "markdown",
   "id": "c3039943",
   "metadata": {},
   "source": [
    "#### **Contoh Hasil Model 1 (Content-Based Filtering - Textual)**\n",
    "Sel ini menampilkan contoh rekomendasi untuk film pertama dalam dataset menggunakan Model 1. Ini memberikan gambaran tentang bagaimana model bekerja dalam praktiknya."
   ]
  },
  {
   "cell_type": "code",
   "execution_count": 13,
   "id": "88f256bc",
   "metadata": {},
   "outputs": [
    {
     "name": "stdout",
     "output_type": "stream",
     "text": [
      "Rekomendasi untuk film 'Bugs Bunny's Third Movie: 1001 Rabbit Tales' (berdasarkan teks):\n",
      "---\n",
      "1. Bah Humduck!: A Looney Tunes Christmas\n",
      "2. Inside Donald Duck\n",
      "3. Looney, Looney, Looney Bugs Bunny Movie\n",
      "4. Tweety's High Flying Adventure\n",
      "5. Looney Tunes: Back in Action\n",
      "6. Daffy Duck's Quackbusters\n",
      "7. The Bugs Bunny/Road Runner Movie\n",
      "8. Bugs Bunny Superstar\n",
      "9. Saludos amigos\n",
      "10. Mickey's Twice Upon a Christmas\n"
     ]
    }
   ],
   "source": [
    "if not df.empty and 'title' in df.columns and len(df) > 10 and cosine_sim_text is not None and indices_text is not None:\n",
    "    # Ambil film pertama sebagai contoh, pastikan judulnya ada di indices_text\n",
    "    sample_movie_title_text = \"\"\n",
    "    if not df['title'].empty:\n",
    "        sample_movie_title_text = df['title'].iloc[0]\n",
    "\n",
    "    if sample_movie_title_text and sample_movie_title_text in indices_text:\n",
    "        print(f\"Rekomendasi untuk film '{sample_movie_title_text}' (berdasarkan teks):\\n---\")\n",
    "        recommendations = get_recommendations_text_generic(sample_movie_title_text, cosine_sim_text, indices_text, df)\n",
    "        if isinstance(recommendations, pd.Series) and not recommendations.empty:\n",
    "            for i, rec_title in enumerate(recommendations):\n",
    "                print(f\"{i+1}. {rec_title}\")\n",
    "        else:\n",
    "            print(recommendations) # Print pesan error/kosong dari fungsi jika ada\n",
    "    elif sample_movie_title_text:\n",
    "        print(f\"Judul sampel '{sample_movie_title_text}' tidak ditemukan dalam pemetaan indeks Model 1.\")\n",
    "    else:\n",
    "        print(\"Tidak ada judul sampel yang bisa digunakan dari dataset.\")\n",
    "else:\n",
    "    print(\"Tidak cukup data, model tidak siap, atau judul sampel tidak valid untuk memberikan rekomendasi Model 1.\")"
   ]
  },
  {
   "cell_type": "markdown",
   "id": "1a62dfb8",
   "metadata": {},
   "source": [
    "### **5.2. Model 2: Collaborative Filtering (Pendekatan Item-Based berbasis Atribut Film)**\n",
    "\n",
    "Untuk memenuhi kriteria pendekatan kedua, yaitu *Collaborative Filtering*, kita akan mengimplementasikan sebuah varian yang dikenal sebagai **Item-Based Collaborative Filtering**. Mengingat dataset kita tidak memiliki data interaksi eksplisit pengguna-item (misalnya, user A memberi rating 5 pada film X), kita tidak dapat membuat _utility matrix_ tradisional.\n",
    "\n",
    "Sebagai gantinya, kita akan menggunakan **atribut-atribut film sebagai proxy** untuk menentukan kemiripan antar item (film). Asumsinya adalah film-film dengan atribut serupa (misalnya, genre yang sama, sutradara yang sama, skor dimensi yang mirip, atau popularitas vote yang tinggi) cenderung disukai oleh kelompok pengguna yang sama. Jadi, jika seseorang menyukai satu film, mereka mungkin juga menyukai film lain yang memiliki atribut \"kolaboratif\" serupa.\n",
    "\n",
    "Pendekatan ini akan menggunakan fitur-fitur seperti `genre` (diolah menjadi numerik), `avg_vote`, `total_votes`, dan skor dimensi (`humor`, `rhythm`, `effort`, `tension`, `erotism`)."
   ]
  },
  {
   "cell_type": "markdown",
   "id": "e701ecd6",
   "metadata": {},
   "source": [
    "#### **Pemilihan dan Normalisasi Fitur Numerik untuk Model 2**\n",
    "Fitur-fitur numerik yang relevan dipilih (`avg_vote`, `total_votes`, dan kolom-kolom skor dimensi). Fitur-fitur ini kemudian dinormalisasi menggunakan `MinMaxScaler` untuk mengubah rentang nilainya menjadi [0, 1]. Normalisasi penting agar fitur dengan skala besar tidak mendominasi perhitungan kemiripan."
   ]
  },
  {
   "cell_type": "code",
   "execution_count": 14,
   "id": "c4fc7e62",
   "metadata": {},
   "outputs": [
    {
     "name": "stdout",
     "output_type": "stream",
     "text": [
      "Fitur numerik yang digunakan untuk Model 2: ['avg_vote', 'total_votes', 'humor', 'rhythm', 'effort', 'tension', 'erotism']\n",
      "\n",
      "Fitur numerik untuk Model 2 telah dinormalisasi.\n"
     ]
    }
   ],
   "source": [
    "features_model2_scaled_df = None # Inisialisasi\n",
    "\n",
    "if not df.empty:\n",
    "    # Kolom skor dimensi dan vote yang akan digunakan\n",
    "    attribute_cols_numeric_candidate = ['avg_vote', 'total_votes', 'humor', 'rhythm', 'effort', 'tension', 'erotism']\n",
    "    valid_attribute_cols_numeric = []\n",
    "\n",
    "    for col in attribute_cols_numeric_candidate:\n",
    "        if col in df.columns:\n",
    "            # Pastikan kolom adalah numerik, jika tidak coba konversi\n",
    "            if not pd.api.types.is_numeric_dtype(df[col]):\n",
    "                df[col] = pd.to_numeric(df[col], errors='coerce')\n",
    "                # Setelah konversi, isi NaN jika ada (seharusnya sudah ditangani, tapi sebagai jaring pengaman)\n",
    "                if df[col].isnull().any():\n",
    "                    df[col] = df[col].fillna(df[col].median())\n",
    "            # Tambahkan jika kolomnya numerik dan tidak semua NaN setelah konversi\n",
    "            if pd.api.types.is_numeric_dtype(df[col]) and not df[col].isnull().all():\n",
    "                valid_attribute_cols_numeric.append(col)\n",
    "            else:\n",
    "                 print(f\"Peringatan: Kolom '{col}' tidak valid atau seluruhnya NaN setelah proses dan tidak akan digunakan di Model 2 (Numerik).\")\n",
    "\n",
    "\n",
    "    if not valid_attribute_cols_numeric:\n",
    "        print(\"Tidak ada kolom atribut numerik yang valid untuk Model 2.\")\n",
    "    else:\n",
    "        print(f\"Fitur numerik yang digunakan untuk Model 2: {valid_attribute_cols_numeric}\")\n",
    "        features_model2_numeric = df[valid_attribute_cols_numeric].copy()\n",
    "\n",
    "        # Pastikan semua NaN sudah diisi sebelum scaling (seharusnya sudah dari Data Prep, ini double check)\n",
    "        for col in valid_attribute_cols_numeric:\n",
    "            if features_model2_numeric[col].isnull().any():\n",
    "                 features_model2_numeric[col] = features_model2_numeric[col].fillna(features_model2_numeric[col].median())\n",
    "                 print(f\"Mengisi NaN di {col} sebelum scaling (double check).\")\n",
    "\n",
    "        scaler = MinMaxScaler()\n",
    "        features_model2_scaled = scaler.fit_transform(features_model2_numeric)\n",
    "        features_model2_scaled_df = pd.DataFrame(features_model2_scaled, columns=features_model2_numeric.columns, index=df.index)\n",
    "        print(\"\\nFitur numerik untuk Model 2 telah dinormalisasi.\")\n",
    "        # display(features_model2_scaled_df.head())\n",
    "else:\n",
    "    print(\"Dataset kosong.\")"
   ]
  },
  {
   "cell_type": "markdown",
   "id": "fb042530",
   "metadata": {},
   "source": [
    "#### **Vektorisasi Fitur Genre untuk Model 2**\n",
    "Fitur `genre` (yang bisa berisi multiple genre per film) akan diubah menjadi representasi numerik menggunakan `TfidfVectorizer`. Tokenizer khusus digunakan untuk memisahkan genre berdasarkan koma dan membersihkan spasi. Hasilnya adalah matriks di mana setiap kolom mewakili sebuah genre unik dan nilainya adalah skor TF-IDF."
   ]
  },
  {
   "cell_type": "code",
   "execution_count": 15,
   "id": "592f9e7e",
   "metadata": {},
   "outputs": [
    {
     "name": "stdout",
     "output_type": "stream",
     "text": [
      "\n",
      "Fitur genre telah divektorisasi menggunakan TF-IDF untuk Model 2.\n"
     ]
    },
    {
     "name": "stderr",
     "output_type": "stream",
     "text": [
      "C:\\Users\\arthur_k\\AppData\\Roaming\\Python\\Python312\\site-packages\\sklearn\\feature_extraction\\text.py:525: UserWarning: The parameter 'token_pattern' will not be used since 'tokenizer' is not None'\n",
      "  warnings.warn(\n"
     ]
    }
   ],
   "source": [
    "genre_df_model2 = None # Inisialisasi\n",
    "\n",
    "if not df.empty and 'genre' in df.columns:\n",
    "    # Pastikan 'genre' adalah string dan NaN diisi string kosong (seharusnya sudah dari Data Prep)\n",
    "    df['genre_for_model2'] = df['genre'].astype(str).fillna('')\n",
    "\n",
    "    # Tokenizer untuk memisahkan genre berdasarkan koma dan membersihkan spasi\n",
    "    def genre_tokenizer(text):\n",
    "        return [g.strip() for g in text.split(',') if g.strip()]\n",
    "\n",
    "    tfidf_genre_model2 = TfidfVectorizer(tokenizer=genre_tokenizer)\n",
    "    try:\n",
    "        # Cek apakah ada genre yang valid untuk di-fit\n",
    "        if df['genre_for_model2'].apply(genre_tokenizer).map(len).sum() > 0:\n",
    "            genre_matrix_model2 = tfidf_genre_model2.fit_transform(df['genre_for_model2'])\n",
    "            genre_df_model2 = pd.DataFrame(genre_matrix_model2.toarray(), index=df.index, columns=tfidf_genre_model2.get_feature_names_out())\n",
    "            print(\"\\nFitur genre telah divektorisasi menggunakan TF-IDF untuk Model 2.\")\n",
    "            # display(genre_df_model2.head())\n",
    "        else:\n",
    "            print(\"Tidak ada token genre yang valid ditemukan. Matriks genre tidak dibuat.\")\n",
    "            genre_df_model2 = pd.DataFrame(index=df.index) # Buat DataFrame kosong dengan indeks yang sama\n",
    "    except ValueError as e:\n",
    "        print(f\"Error saat vektorisasi genre untuk Model 2: {e}. Ini bisa terjadi jika vocabulary kosong.\")\n",
    "        genre_df_model2 = pd.DataFrame(index=df.index) # Buat DataFrame kosong jika error\n",
    "else:\n",
    "    print(\"Kolom 'genre' tidak ditemukan atau dataset kosong.\")\n",
    "    if not df.empty: # Jika dataset ada tapi kolom genre tidak, buat placeholder\n",
    "        genre_df_model2 = pd.DataFrame(index=df.index)"
   ]
  },
  {
   "cell_type": "markdown",
   "id": "20b7adb5",
   "metadata": {},
   "source": [
    "#### **Menggabungkan Fitur dan Menghitung Cosine Similarity (Model 2)**\n",
    "Fitur numerik yang sudah dinormalisasi dan matriks genre TF-IDF (jika ada) digabungkan menjadi satu matriks fitur komprehensif. Kemudian, `cosine_similarity` dihitung pada matriks gabungan ini untuk mendapatkan kemiripan antar film berdasarkan atribut-atribut tersebut. Pemetaan judul ke indeks (`indices_attr`) juga dibuat."
   ]
  },
  {
   "cell_type": "code",
   "execution_count": 16,
   "id": "89cfab37",
   "metadata": {},
   "outputs": [
    {
     "name": "stdout",
     "output_type": "stream",
     "text": [
      "Menggabungkan fitur numerik dan genre untuk Model 2.\n",
      "\n",
      "Shape of Cosine Similarity matrix (attributes): (41399, 41399)\n",
      "Jumlah judul unik untuk pemetaan indeks Model 2: 41399\n"
     ]
    }
   ],
   "source": [
    "combined_features_model2 = None # Inisialisasi\n",
    "cosine_sim_attr = None # Inisialisasi\n",
    "indices_attr = None # Inisialisasi\n",
    "\n",
    "if not df.empty:\n",
    "    # Cek apakah kedua DataFrame fitur (numerik dan genre) telah berhasil dibuat\n",
    "    use_numeric_features = features_model2_scaled_df is not None and not features_model2_scaled_df.empty\n",
    "    use_genre_features = genre_df_model2 is not None and not genre_df_model2.empty\n",
    "\n",
    "    if use_numeric_features and use_genre_features:\n",
    "        print(\"Menggabungkan fitur numerik dan genre untuk Model 2.\")\n",
    "        combined_features_model2 = pd.concat([features_model2_scaled_df, genre_df_model2], axis=1)\n",
    "    elif use_numeric_features:\n",
    "        print(\"Hanya menggunakan fitur numerik untuk Model 2 (fitur genre tidak tersedia/kosong).\")\n",
    "        combined_features_model2 = features_model2_scaled_df\n",
    "    elif use_genre_features:\n",
    "        print(\"Hanya menggunakan fitur genre untuk Model 2 (fitur numerik tidak tersedia/kosong).\")\n",
    "        combined_features_model2 = genre_df_model2\n",
    "    else:\n",
    "        print(\"Tidak ada fitur yang valid (baik numerik maupun genre) untuk Model 2.\")\n",
    "\n",
    "    if combined_features_model2 is not None and not combined_features_model2.empty:\n",
    "        # Pastikan tidak ada NaN dalam combined_features_model2 sebelum cosine_similarity\n",
    "        # NaN bisa muncul jika salah satu set fitur (numerik/genre) gagal dibuat dan concat dilakukan dengan None\n",
    "        if combined_features_model2.isnull().values.any():\n",
    "            print(\"Peringatan: Terdapat NaN dalam combined_features_model2. Mengisi dengan 0...\")\n",
    "            combined_features_model2 = combined_features_model2.fillna(0)\n",
    "\n",
    "        cosine_sim_attr = cosine_similarity(combined_features_model2, combined_features_model2)\n",
    "        print(\"\\nShape of Cosine Similarity matrix (attributes):\", cosine_sim_attr.shape)\n",
    "        indices_attr = pd.Series(df.index, index=df['title']).drop_duplicates()\n",
    "        print(f\"Jumlah judul unik untuk pemetaan indeks Model 2: {len(indices_attr)}\")\n",
    "    elif not df.empty : # Jika combined_features_model2 tidak berhasil dibuat tapi df ada\n",
    "        print(\"Tidak ada matriks fitur gabungan yang dapat digunakan untuk Model 2.\")\n",
    "\n",
    "else: # Jika df kosong dari awal\n",
    "    print(\"Dataset kosong, Model 2 tidak dapat dibangun.\")"
   ]
  },
  {
   "cell_type": "markdown",
   "id": "a092ebbf",
   "metadata": {},
   "source": [
    "#### **Fungsi untuk Mendapatkan Rekomendasi (Model 2 - Item-Based CF)**\n",
    "\n",
    "Fungsi ini akan memberikan rekomendasi berdasarkan matriks kemiripan antar item (`cosine_sim_attr`) yang telah dihitung dari atribut-atribut film. Jika seorang pengguna menyukai suatu film (sebagai input), sistem akan merekomendasikan film lain yang paling mirip berdasarkan atribut-atribut tersebut, yang secara implisit mencerminkan preferensi \"kolaboratif\" dari pengguna dengan selera serupa.\n",
    "\n",
    "Kita dapat menggunakan kembali fungsi generik `get_recommendations_text_generic` yang telah dibuat sebelumnya, dengan memberikan matriks `cosine_sim_attr` dan `indices_attr` yang sesuai untuk Model 2 ini."
   ]
  },
  {
   "cell_type": "code",
   "execution_count": 17,
   "id": "5427d8c9",
   "metadata": {},
   "outputs": [],
   "source": [
    "# Fungsi get_recommendations_attr sekarang hanya memanggil fungsi generik\n",
    "# dengan parameter yang sesuai untuk Model 2\n",
    "def get_recommendations_attr(title, data_df=df, top_n=10):\n",
    "    # Pastikan cosine_sim_attr dan indices_attr sudah terdefinisi dari sel sebelumnya\n",
    "    if 'cosine_sim_attr' in globals() and 'indices_attr' in globals():\n",
    "        return get_recommendations_text_generic(title, cosine_sim_attr, indices_attr, data_df, top_n=top_n)\n",
    "    else:\n",
    "        return pd.Series([\"Model 2 (atribut) belum siap atau komponennya hilang.\"])"
   ]
  },
  {
   "cell_type": "markdown",
   "id": "3053c3ef",
   "metadata": {},
   "source": [
    "#### **Contoh Hasil Model 2 (Item Similarity - Attributes)**\n",
    "Sel ini menampilkan contoh rekomendasi untuk film kedua dalam dataset (atau film lain yang valid) menggunakan Model 2."
   ]
  },
  {
   "cell_type": "code",
   "execution_count": 18,
   "id": "f42f2200",
   "metadata": {},
   "outputs": [
    {
     "name": "stdout",
     "output_type": "stream",
     "text": [
      "Rekomendasi untuk film '18 anni tra una settimana' (berdasarkan atribut):\n",
      "---\n",
      "1. Hit and Run\n",
      "2. The Maker\n",
      "3. Jimmy the Gent\n",
      "4. Oggi a Berlino\n",
      "5. Flowers for Algernon\n",
      "6. Stella\n",
      "7. The Murder of Mary Phagan\n",
      "8. Thicker Than Blood: The Larry McLinden Story\n",
      "9. Death Dreams\n",
      "10. Improper Conduct\n"
     ]
    }
   ],
   "source": [
    "if not df.empty and 'title' in df.columns and len(df) > 10 and \\\n",
    "   'cosine_sim_attr' in globals() and cosine_sim_attr is not None and \\\n",
    "   'indices_attr' in globals() and indices_attr is not None:\n",
    "\n",
    "    sample_movie_title_attr = \"\"\n",
    "    if len(df['title']) > 1:\n",
    "        sample_movie_title_attr = df['title'].iloc[1] # Ambil film kedua\n",
    "    elif not df['title'].empty:\n",
    "        sample_movie_title_attr = df['title'].iloc[0] # Atau film pertama jika hanya ada satu\n",
    "\n",
    "    if sample_movie_title_attr and sample_movie_title_attr in indices_attr:\n",
    "        print(f\"Rekomendasi untuk film '{sample_movie_title_attr}' (berdasarkan atribut):\\n---\")\n",
    "        recommendations_attr = get_recommendations_attr(sample_movie_title_attr, data_df=df)\n",
    "        if isinstance(recommendations_attr, pd.Series) and not recommendations_attr.empty:\n",
    "            for i, rec_title in enumerate(recommendations_attr):\n",
    "                print(f\"{i+1}. {rec_title}\")\n",
    "        else:\n",
    "            print(recommendations_attr) # Print pesan error/kosong dari fungsi jika ada\n",
    "    elif sample_movie_title_attr:\n",
    "        print(f\"Judul sampel '{sample_movie_title_attr}' tidak ditemukan dalam pemetaan indeks Model 2.\")\n",
    "    else:\n",
    "        print(\"Tidak ada judul sampel yang bisa digunakan dari dataset untuk Model 2.\")\n",
    "else:\n",
    "    print(\"Tidak cukup data, Model 2 (atribut) tidak siap, atau judul sampel tidak valid untuk memberikan rekomendasi.\")"
   ]
  },
  {
   "cell_type": "markdown",
   "id": "943d34f9",
   "metadata": {},
   "source": [
    "### **5.3. Kelebihan dan Kekurangan Pendekatan yang Dipilih**\n",
    "\n",
    "**Model 1: Content-Based Filtering (Tekstual)**\n",
    "-   **Kelebihan**:\n",
    "    -   Tidak memerlukan data pengguna lain (mengatasi _user cold-start_ jika pengguna baru memberikan preferensi awal melalui film yang disukai).\n",
    "    -   Dapat merekomendasikan item yang spesifik dan kurang populer (_niche items_) selama metadatanya kaya.\n",
    "    -   Rekomendasi dapat dijelaskan berdasarkan fitur konten (misalnya, \"direkomendasikan karena memiliki genre, aktor, atau deskripsi yang sama/mirip\").\n",
    "    -   Tidak ada masalah _item cold-start_ jika item baru memiliki deskripsi fitur yang cukup.\n",
    "-   **Kekurangan**:\n",
    "    -   Kualitas fitur konten sangat menentukan; ekstraksi dan rekayasa fitur yang baik bisa jadi sulit dan memakan waktu.\n",
    "    -   Cenderung merekomendasikan item yang sangat mirip dengan yang sudah disukai pengguna, sehingga kurang memberikan _serendipity_ (penemuan tak terduga yang menyenangkan).\n",
    "    -   Sangat bergantung pada kualitas dan kelengkapan metadata film. Jika metadata buruk atau tidak lengkap, rekomendasi akan buruk.\n",
    "\n",
    "**Model 2: Collaborative Filtering (Pendekatan Item-Based berbasis Atribut Film)**\n",
    "-   **Kelebihan**:\n",
    "    -   Tidak memerlukan data rating eksplisit pengguna-item yang detail, cukup atribut item yang kaya.\n",
    "    -   Mampu menemukan item-item yang secara atribut mirip dan berpotensi disukai oleh pengguna dengan selera serupa (efek \"pengguna yang menyukai X juga menyukai Y\").\n",
    "    -   Dapat membantu dalam mengatasi masalah *item cold-start* sampai batas tertentu jika item baru memiliki atribut yang lengkap.\n",
    "    -   Perhitungan kemiripan item bisa dilakukan secara offline.\n",
    "-   **Kekurangan**:\n",
    "    -   Masih sangat bergantung pada kualitas dan kelengkapan atribut film. Jika atribut tidak representatif terhadap selera pengguna, rekomendasi kurang akurat.\n",
    "    -   Kurang mampu menangkap *serendipity* (rekomendasi yang mengejutkan namun relevan) dibandingkan CF murni berbasis interaksi pengguna.\n",
    "    -   Tidak bersifat personal secara individu pengguna jika tidak ada profil pengguna; rekomendasi lebih bersifat \"item-to-item\".\n",
    "    -   Bisa rentan terhadap bias popularitas jika atribut seperti `total_votes` atau `avg_vote` sangat mendominasi."
   ]
  },
  {
   "cell_type": "markdown",
   "id": "ce6f10f3",
   "metadata": {},
   "source": [
    "## **6. Evaluation**\n",
    "\n",
    "Evaluasi sistem rekomendasi, terutama yang bersifat content-based atau item-similarity tanpa data interaksi pengguna eksplisit (seperti rating per pengguna atau riwayat tontonan), seringkali bersifat kualitatif atau menggunakan metrik proxy. Dataset ini tidak menyediakan _ground truth_ (misalnya, film apa yang benar-benar disukai pengguna X setelah menonton film Y), sehingga evaluasi kuantitatif seperti Precision@k dan Recall@k secara langsung terhadap preferensi pengguna sulit dihitung."
   ]
  },
  {
   "cell_type": "markdown",
   "id": "b4072398",
   "metadata": {},
   "source": [
    "### **6.1. Metrik Evaluasi yang Digunakan (dan Konseptualisasinya)**\n",
    "\n",
    "1.  **Evaluasi Kualitatif (Observasi Langsung)**:\n",
    "    -   **Cara Kerja**: Memeriksa secara manual beberapa rekomendasi yang dihasilkan oleh kedua model untuk beberapa film sampel. Penilaian difokuskan pada apakah film yang direkomendasikan secara intuitif masuk akal dan relevan dengan film input. Aspek yang diperhatikan: kesamaan genre, sutradara, aktor, tema cerita, atau 'mood' yang serupa.\n",
    "    -   **Konteks Proyek**: Ini adalah metode evaluasi utama yang dapat dilakukan dengan dataset saat ini. Kita akan melihat apakah rekomendasi yang diberikan oleh Model 1 (teks) dan Model 2 (atribut) terasa koheren.\n",
    "\n",
    "2.  **Precision@k (Konseptual untuk Proyek Ini)**:\n",
    "    -   **Formula**: `Precision@k = (Jumlah item relevan yang direkomendasikan di posisi top-k) / k`\n",
    "    -   **Cara Kerja**: Mengukur proporsi item yang direkomendasikan dalam `k` item teratas yang dianggap 'relevan'.\n",
    "    -   **Konteks Proyek**: Karena tidak ada data preferensi pengguna, 'relevan' bisa didefinisikan secara proxy. Misalnya, sebuah film rekomendasi dianggap 'relevan' jika memiliki setidaknya satu genre utama yang sama dengan film input. Jika kita merekomendasikan 10 film (k=10) dan 7 di antaranya memiliki genre yang sama dengan film input, maka Precision@10 (berbasis genre) adalah 7/10 = 0.7. Perhitungan ini memerlukan implementasi tambahan untuk mengecek kesamaan genre secara otomatis.\n",
    "\n",
    "3.  **Recall@k (Konseptual untuk Proyek Ini)**:\n",
    "    -   **Formula**: `Recall@k = (Jumlah item relevan yang direkomendasikan di posisi top-k) / (Total jumlah item relevan yang mungkin ada)`\n",
    "    -   **Cara Kerja**: Mengukur proporsi item relevan yang berhasil direkomendasikan dari semua item yang mungkin dianggap relevan dalam keseluruhan dataset.\n",
    "    -   **Konteks Proyek**: Ini lebih sulit lagi diukur tanpa ground truth yang jelas mengenai 'total jumlah item relevan'. Misalnya, jika untuk film input ada 50 film lain di dataset yang memiliki genre utama yang sama, dan sistem merekomendasikan 7 di antaranya dalam top-10, maka Recall@10 (berbasis genre) adalah 7/50. Perhitungan ini juga memerlukan implementasi tambahan.\n",
    "\n",
    "4.  **Diversity**:\n",
    "    -   **Cara Kerja**: Mengukur seberapa beragam item-item yang direkomendasikan. Misalnya, jika semua rekomendasi berasal dari genre yang sama persis, diversitasnya rendah. Ini bisa diukur dengan menghitung rata-rata ketidakmiripan (1 - similarity) antar pasangan item dalam daftar rekomendasi, atau dengan melihat jumlah genre unik yang muncul dalam top-N rekomendasi.\n",
    "    -   **Konteks Proyek**: Kita bisa membandingkan secara kualitatif apakah Model 1 dan Model 2 menghasilkan rekomendasi dengan tingkat diversitas genre yang berbeda.\n",
    "\n",
    "5.  **Novelty & Serendipity**:\n",
    "    -   **Novelty**: Seberapa baru atau belum diketahui (mungkin kurang populer) item yang direkomendasikan oleh pengguna.\n",
    "    -   **Serendipity**: Seberapa mengejutkan namun tetap relevan dan menarik item yang direkomendasikan.\n",
    "    -   **Konteks Proyek**: Sulit diukur secara kuantitatif tanpa feedback pengguna, tetapi bisa dinilai secara kualitatif dengan melihat apakah ada film yang tidak terduga namun menarik dalam daftar rekomendasi, atau apakah model cenderung merekomendasikan film yang sangat populer saja."
   ]
  },
  {
   "cell_type": "markdown",
   "id": "64a46001",
   "metadata": {},
   "source": [
    "### **Implementasi Evaluasi Kuantitatif: Precision@k dan Recall@k**\n",
    "\n",
    "Untuk melakukan evaluasi kuantitatif terhadap model rekomendasi yang telah dibuat, kita akan menghitung metrik **Precision@k** dan **Recall@k**. Metrik ini membantu mengukur seberapa relevan dan seberapa banyak item yang berhasil direkomendasikan oleh sistem.\n",
    "\n",
    "**Definisi 'Item Relevan'**:\n",
    "Dalam perhitungan ini, sebuah film rekomendasi dianggap 'relevan' jika memiliki **setidaknya satu genre yang sama** dengan genre utama dari film input. Genre utama film input akan diambil dari daftar genrenya yang tercatat dalam dataset."
   ]
  },
  {
   "cell_type": "markdown",
   "id": "5761ce8b",
   "metadata": {},
   "source": [
    "#### **Fungsi Bantuan: Mendapatkan Genre Film**\n",
    "\n",
    "Fungsi `get_movie_genres` ini bertugas untuk mengambil dan memproses daftar genre dari sebuah film berdasarkan judulnya. Fungsi ini juga akan menangani kasus jika judul tidak ditemukan persis dengan melakukan pencarian parsial (partial match)."
   ]
  },
  {
   "cell_type": "code",
   "execution_count": 23,
   "id": "993e82f9",
   "metadata": {},
   "outputs": [],
   "source": [
    "def get_movie_genres(title, data_df, indices_map):\n",
    "    \"\"\"Mendapatkan daftar genre untuk sebuah film berdasarkan judulnya.\"\"\"\n",
    "    if title not in indices_map:\n",
    "        # Coba partial match jika judul tidak ada\n",
    "        possible_matches = data_df[data_df['title'].str.contains(title, case=False, na=False)]\n",
    "        if not possible_matches.empty:\n",
    "            actual_title_match = possible_matches['title'].iloc[0]\n",
    "            if actual_title_match in indices_map:\n",
    "                title = actual_title_match\n",
    "            else:\n",
    "                return [] # Tidak ditemukan dalam map meskipun ada partial match\n",
    "        else:\n",
    "            return [] # Tidak ditemukan\n",
    "\n",
    "    idx = indices_map[title]\n",
    "    if isinstance(idx, pd.Series): # Jika ada duplikat judul, ambil yang pertama\n",
    "        idx = idx.iloc[0]\n",
    "\n",
    "    genre_str = data_df.iloc[idx]['genre']\n",
    "    if pd.isna(genre_str) or genre_str == '':\n",
    "        return []\n",
    "    return [g.strip() for g in genre_str.split(',') if g.strip()]"
   ]
  },
  {
   "cell_type": "markdown",
   "id": "90307e32",
   "metadata": {},
   "source": [
    "#### **Fungsi Perhitungan: Precision@k**\n",
    "\n",
    "Fungsi `calculate_precision_at_k` menghitung presisi dari `k` rekomendasi teratas. Presisi dihitung sebagai rasio jumlah item relevan dalam `k` rekomendasi teratas terhadap `k`."
   ]
  },
  {
   "cell_type": "code",
   "execution_count": 24,
   "id": "0ab38b2b",
   "metadata": {},
   "outputs": [],
   "source": [
    "def calculate_precision_at_k(input_movie_title, recommended_titles, k, data_df, indices_map):\n",
    "    \"\"\"\n",
    "    Menghitung Precision@k.\n",
    "    Film rekomendasi dianggap relevan jika memiliki setidaknya satu genre yang sama dengan film input.\n",
    "    \"\"\"\n",
    "    if not isinstance(recommended_titles, pd.Series) or recommended_titles.empty:\n",
    "        if isinstance(recommended_titles, pd.Series) and \\\n",
    "           (recommended_titles.iloc[0].startswith(\"Model belum siap\") or recommended_titles.iloc[0].startswith(\"Film dengan judul\")):\n",
    "             print(f\"Tidak bisa menghitung Precision@k untuk '{input_movie_title}' karena: {recommended_titles.iloc[0]}\")\n",
    "             return None\n",
    "        elif not isinstance(recommended_titles, pd.Series):\n",
    "             print(f\"Tidak bisa menghitung Precision@k untuk '{input_movie_title}' karena: {recommended_titles}\")\n",
    "             return None\n",
    "\n",
    "    input_genres = get_movie_genres(input_movie_title, data_df, indices_map)\n",
    "    if not input_genres:\n",
    "        print(f\"Tidak bisa mendapatkan genre untuk film input (Precision@k): {input_movie_title}\")\n",
    "        return None\n",
    "\n",
    "    top_k_recommendations = recommended_titles.head(k)\n",
    "    relevant_items_count = 0\n",
    "    for rec_title in top_k_recommendations:\n",
    "        rec_genres = get_movie_genres(rec_title, data_df, indices_map)\n",
    "        if any(genre in rec_genres for genre in input_genres) and rec_genres:\n",
    "            relevant_items_count += 1\n",
    "\n",
    "    precision = relevant_items_count / k if k > 0 else 0\n",
    "    return precision"
   ]
  },
  {
   "cell_type": "markdown",
   "id": "392c8bd1",
   "metadata": {},
   "source": [
    "#### **Fungsi Bantuan: Mendapatkan Semua Film Relevan di Dataset**\n",
    "\n",
    "Fungsi `get_all_relevant_movies_in_dataset` bertujuan untuk menghitung jumlah total film dalam keseluruhan dataset yang dianggap relevan dengan film input (berdasarkan kesamaan genre), tidak termasuk film input itu sendiri. Hasil dari fungsi ini akan digunakan sebagai penyebut (denominator) dalam perhitungan Recall@k."
   ]
  },
  {
   "cell_type": "code",
   "execution_count": 25,
   "id": "fc8bfe2f",
   "metadata": {},
   "outputs": [],
   "source": [
    "def get_all_relevant_movies_in_dataset(input_movie_title, data_df, indices_map):\n",
    "    \"\"\"\n",
    "    Menghitung jumlah total film dalam dataset (tidak termasuk film input itu sendiri)\n",
    "    yang dianggap relevan dengan film input berdasarkan kesamaan genre.\n",
    "    \"\"\"\n",
    "    input_genres = get_movie_genres(input_movie_title, data_df, indices_map)\n",
    "    if not input_genres:\n",
    "        # print(f\"Tidak bisa mendapatkan genre untuk film input (get_all_relevant): {input_movie_title}\")\n",
    "        return 0\n",
    "\n",
    "    total_relevant_count = 0\n",
    "    input_movie_idx = None\n",
    "    if input_movie_title in indices_map:\n",
    "        idx_val = indices_map[input_movie_title]\n",
    "        if isinstance(idx_val, pd.Series):\n",
    "            input_movie_idx = idx_val.iloc[0]\n",
    "        else:\n",
    "            input_movie_idx = idx_val\n",
    "\n",
    "    for index, row in data_df.iterrows():\n",
    "        if input_movie_idx is not None and index == input_movie_idx: # Jangan bandingkan film dengan dirinya sendiri\n",
    "            continue\n",
    "\n",
    "        current_movie_genres = get_movie_genres(row['title'], data_df, indices_map)\n",
    "        if not current_movie_genres:\n",
    "            continue\n",
    "\n",
    "        if any(genre in current_movie_genres for genre in input_genres):\n",
    "            total_relevant_count += 1\n",
    "\n",
    "    return total_relevant_count"
   ]
  },
  {
   "cell_type": "markdown",
   "id": "2e754fc3",
   "metadata": {},
   "source": [
    "#### **Fungsi Perhitungan: Recall@k**\n",
    "\n",
    "Fungsi `calculate_recall_at_k` menghitung recall dari `k` rekomendasi teratas. Recall dihitung sebagai rasio jumlah item relevan dalam `k` rekomendasi teratas terhadap total jumlah item relevan yang ada di seluruh dataset untuk film input tersebut."
   ]
  },
  {
   "cell_type": "code",
   "execution_count": 26,
   "id": "b62899ea",
   "metadata": {},
   "outputs": [],
   "source": [
    "def calculate_recall_at_k(input_movie_title, recommended_titles, k, data_df, indices_map):\n",
    "    \"\"\"\n",
    "    Menghitung Recall@k.\n",
    "    Film rekomendasi dianggap relevan jika memiliki setidaknya satu genre yang sama dengan film input.\n",
    "    \"\"\"\n",
    "    if not isinstance(recommended_titles, pd.Series) or recommended_titles.empty:\n",
    "        if isinstance(recommended_titles, pd.Series) and \\\n",
    "           (recommended_titles.iloc[0].startswith(\"Model belum siap\") or recommended_titles.iloc[0].startswith(\"Film dengan judul\")):\n",
    "             print(f\"Tidak bisa menghitung Recall@k untuk '{input_movie_title}' karena: {recommended_titles.iloc[0]}\")\n",
    "             return None\n",
    "        elif not isinstance(recommended_titles, pd.Series) :\n",
    "             print(f\"Tidak bisa menghitung Recall@k untuk '{input_movie_title}' karena: {recommended_titles}\")\n",
    "             return None\n",
    "\n",
    "    input_genres = get_movie_genres(input_movie_title, data_df, indices_map)\n",
    "    if not input_genres:\n",
    "        # print(f\"Tidak bisa mendapatkan genre untuk film input (calculate_recall): {input_movie_title}\")\n",
    "        return None\n",
    "\n",
    "    top_k_recommendations = recommended_titles.head(k)\n",
    "    relevant_items_in_top_k_count = 0\n",
    "    for rec_title in top_k_recommendations:\n",
    "        rec_genres = get_movie_genres(rec_title, data_df, indices_map)\n",
    "        if any(genre in rec_genres for genre in input_genres) and rec_genres:\n",
    "            relevant_items_in_top_k_count += 1\n",
    "\n",
    "    total_relevant_in_dataset = get_all_relevant_movies_in_dataset(input_movie_title, data_df, indices_map)\n",
    "\n",
    "    if total_relevant_in_dataset == 0:\n",
    "        # print(f\"Tidak ada film relevan di dataset untuk '{input_movie_title}'. Recall adalah 0.\")\n",
    "        return 0.0\n",
    "\n",
    "    recall = relevant_items_in_top_k_count / total_relevant_in_dataset\n",
    "    return recall"
   ]
  },
  {
   "cell_type": "markdown",
   "id": "d17266f4",
   "metadata": {},
   "source": [
    "#### **Penerapan Evaluasi pada Model Rekomendasi**\n",
    "\n",
    "Sekarang kita akan menerapkan fungsi-fungsi evaluasi (Precision@10 dan Recall@10) pada kedua model rekomendasi yang telah dibuat: Model 1 (Content-Based Textual) dan Model 2 (Item-Based CF Atribut). Kita akan menggunakan beberapa film sampel untuk diuji."
   ]
  },
  {
   "cell_type": "code",
   "execution_count": 27,
   "id": "ddc19152",
   "metadata": {},
   "outputs": [
    {
     "name": "stdout",
     "output_type": "stream",
     "text": [
      "\n",
      "--- Evaluasi Metrik untuk Model 1 (Content-Based Textual) ---\n",
      "Film: 'Bugs Bunny's Third Movie: 1001 Rabbit Tales' -> Precision@10: 1.00\n",
      "Film: 'Bugs Bunny's Third Movie: 1001 Rabbit Tales' -> Recall@10: 0.01\n",
      "Film: '18 anni tra una settimana' -> Precision@10: 0.30\n",
      "Film: '18 anni tra una settimana' -> Recall@10: 0.00\n",
      "Film: 'Ride a Wild Pony' -> Precision@10: 0.10\n",
      "Film: 'Ride a Wild Pony' -> Recall@10: 0.00\n",
      "\n",
      "--- Evaluasi Metrik untuk Model 2 (Item-Based CF Atribut) ---\n",
      "Film: 'Bugs Bunny's Third Movie: 1001 Rabbit Tales' -> Precision@10: 1.00\n",
      "Film: 'Bugs Bunny's Third Movie: 1001 Rabbit Tales' -> Recall@10: 0.01\n",
      "Film: '18 anni tra una settimana' -> Precision@10: 1.00\n",
      "Film: '18 anni tra una settimana' -> Recall@10: 0.00\n",
      "Film: 'Ride a Wild Pony' -> Precision@10: 1.00\n",
      "Film: 'Ride a Wild Pony' -> Recall@10: 0.01\n"
     ]
    }
   ],
   "source": [
    "# Pastikan variabel-variabel model (cosine_sim_text, indices_text, cosine_sim_attr, indices_attr)\n",
    "# dan DataFrame df sudah terdefinisi dari sel-sel sebelumnya.\n",
    "\n",
    "# Tentukan film sampel untuk evaluasi (ganti dengan judul yang valid dari dataset Anda)\n",
    "sample_movies_for_eval = []\n",
    "if not df.empty:\n",
    "    if len(df) >= 3:\n",
    "        sample_movies_for_eval.extend([df['title'].iloc[0], df['title'].iloc[1], df['title'].iloc[2]])\n",
    "    elif len(df) > 0: # Jika hanya 1 atau 2 film\n",
    "        sample_movies_for_eval.append(df['title'].iloc[0])\n",
    "        if len(df) > 1:\n",
    "             sample_movies_for_eval.append(df['title'].iloc[1])\n",
    "else:\n",
    "    print(\"Dataset kosong, tidak bisa menentukan film sampel untuk evaluasi.\")\n",
    "\n",
    "results_model1 = {}\n",
    "results_model2 = {}\n",
    "k_eval = 10 # Kita akan menghitung Precision@10 dan Recall@10\n",
    "\n",
    "# Evaluasi Model 1 (Content-Based Textual)\n",
    "print(f\"\\n--- Evaluasi Metrik untuk Model 1 (Content-Based Textual) ---\")\n",
    "if 'cosine_sim_text' in globals() and cosine_sim_text is not None and \\\n",
    "   'indices_text' in globals() and indices_text is not None and \\\n",
    "   not df.empty and sample_movies_for_eval:\n",
    "\n",
    "    for movie_title_eval in sample_movies_for_eval:\n",
    "        if movie_title_eval in indices_text:\n",
    "            results_model1[movie_title_eval] = {} # Inisialisasi dictionary untuk film ini\n",
    "            recommendations_model1 = get_recommendations_text_generic(movie_title_eval, cosine_sim_text, indices_text, df, top_n=k_eval)\n",
    "\n",
    "            precision_m1 = calculate_precision_at_k(movie_title_eval, recommendations_model1, k_eval, df, indices_text)\n",
    "            recall_m1 = calculate_recall_at_k(movie_title_eval, recommendations_model1, k_eval, df, indices_text)\n",
    "\n",
    "            if precision_m1 is not None:\n",
    "                results_model1[movie_title_eval]['Precision@'+str(k_eval)] = precision_m1\n",
    "                print(f\"Film: '{movie_title_eval}' -> Precision@{k_eval}: {precision_m1:.2f}\")\n",
    "            else:\n",
    "                print(f\"Film: '{movie_title_eval}' -> Gagal menghitung Precision@{k_eval} untuk Model 1.\")\n",
    "\n",
    "            if recall_m1 is not None:\n",
    "                results_model1[movie_title_eval]['Recall@'+str(k_eval)] = recall_m1\n",
    "                print(f\"Film: '{movie_title_eval}' -> Recall@{k_eval}: {recall_m1:.2f}\")\n",
    "            else:\n",
    "                print(f\"Film: '{movie_title_eval}' -> Gagal menghitung Recall@{k_eval} untuk Model 1.\")\n",
    "        else:\n",
    "            print(f\"Judul '{movie_title_eval}' tidak ditemukan dalam pemetaan Model 1, evaluasi dilewati.\")\n",
    "else:\n",
    "    print(\"Model 1 (Textual) belum siap atau tidak ada film sampel untuk evaluasi.\")\n",
    "\n",
    "# Evaluasi Model 2 (Item-Based CF Atribut)\n",
    "print(f\"\\n--- Evaluasi Metrik untuk Model 2 (Item-Based CF Atribut) ---\")\n",
    "if 'cosine_sim_attr' in globals() and cosine_sim_attr is not None and \\\n",
    "   'indices_attr' in globals() and indices_attr is not None and \\\n",
    "   not df.empty and sample_movies_for_eval:\n",
    "\n",
    "    for movie_title_eval in sample_movies_for_eval:\n",
    "        if movie_title_eval in indices_attr:\n",
    "            results_model2[movie_title_eval] = {} # Inisialisasi dictionary untuk film ini\n",
    "            recommendations_model2 = get_recommendations_attr(movie_title_eval, data_df=df, top_n=k_eval)\n",
    "\n",
    "            precision_m2 = calculate_precision_at_k(movie_title_eval, recommendations_model2, k_eval, df, indices_attr)\n",
    "            recall_m2 = calculate_recall_at_k(movie_title_eval, recommendations_model2, k_eval, df, indices_attr)\n",
    "\n",
    "            if precision_m2 is not None:\n",
    "                results_model2[movie_title_eval]['Precision@'+str(k_eval)] = precision_m2\n",
    "                print(f\"Film: '{movie_title_eval}' -> Precision@{k_eval}: {precision_m2:.2f}\")\n",
    "            else:\n",
    "                print(f\"Film: '{movie_title_eval}' -> Gagal menghitung Precision@{k_eval} untuk Model 2.\")\n",
    "\n",
    "            if recall_m2 is not None:\n",
    "                results_model2[movie_title_eval]['Recall@'+str(k_eval)] = recall_m2\n",
    "                print(f\"Film: '{movie_title_eval}' -> Recall@{k_eval}: {recall_m2:.2f}\")\n",
    "            else:\n",
    "                print(f\"Film: '{movie_title_eval}' -> Gagal menghitung Recall@{k_eval} untuk Model 2.\")\n",
    "        else:\n",
    "            print(f\"Judul '{movie_title_eval}' tidak ditemukan dalam pemetaan Model 2, evaluasi dilewati.\")\n",
    "else:\n",
    "    print(\"Model 2 (Atribut) belum siap atau tidak ada film sampel untuk evaluasi.\")"
   ]
  },
  {
   "cell_type": "markdown",
   "id": "af1f535e",
   "metadata": {},
   "source": [
    "#### **Ringkasan Hasil Evaluasi Kuantitatif**\n",
    "\n",
    "Sel berikut akan menampilkan ringkasan hasil evaluasi, termasuk rata-rata Precision@10 dan Recall@10 untuk kedua model berdasarkan film-film sampel yang telah diuji."
   ]
  },
  {
   "cell_type": "code",
   "execution_count": 28,
   "id": "1576cb2a",
   "metadata": {},
   "outputs": [
    {
     "name": "stdout",
     "output_type": "stream",
     "text": [
      "\n",
      "\n",
      "--- Ringkasan Hasil Evaluasi (Precision@10 & Recall@10) ---\n",
      "\n",
      "Model 1 (Content-Based Textual) - Rata-rata dari 3 film sampel:\n",
      "  Rata-rata Precision@10: 0.47\n",
      "  Rata-rata Recall@10: 0.00\n",
      "\n",
      "Model 2 (Item-Based CF Atribut) - Rata-rata dari 3 film sampel:\n",
      "  Rata-rata Precision@10: 1.00\n",
      "  Rata-rata Recall@10: 0.01\n"
     ]
    }
   ],
   "source": [
    "print(f\"\\n\\n--- Ringkasan Hasil Evaluasi (Precision@{k_eval} & Recall@{k_eval}) ---\")\n",
    "\n",
    "if results_model1:\n",
    "    print(f\"\\nModel 1 (Content-Based Textual) - Rata-rata dari {len(results_model1)} film sampel:\")\n",
    "    # Mengumpulkan semua nilai presisi dan recall yang valid untuk dihitung rata-ratanya\n",
    "    valid_precisions_m1 = [res.get('Precision@'+str(k_eval), np.nan) for res in results_model1.values()]\n",
    "    valid_recalls_m1 = [res.get('Recall@'+str(k_eval), np.nan) for res in results_model1.values()]\n",
    "\n",
    "    avg_precision_model1 = np.nanmean([p for p in valid_precisions_m1 if not np.isnan(p)]) if any(not np.isnan(p) for p in valid_precisions_m1) else np.nan\n",
    "    avg_recall_model1 = np.nanmean([r for r in valid_recalls_m1 if not np.isnan(r)]) if any(not np.isnan(r) for r in valid_recalls_m1) else np.nan\n",
    "\n",
    "    print(f\"  Rata-rata Precision@{k_eval}: {avg_precision_model1:.2f}\" if not np.isnan(avg_precision_model1) else f\"  Rata-rata Precision@{k_eval}: N/A\")\n",
    "    print(f\"  Rata-rata Recall@{k_eval}: {avg_recall_model1:.2f}\" if not np.isnan(avg_recall_model1) else f\"  Rata-rata Recall@{k_eval}: N/A\")\n",
    "else:\n",
    "    print(\"\\nTidak ada hasil evaluasi untuk Model 1.\")\n",
    "\n",
    "if results_model2:\n",
    "    print(f\"\\nModel 2 (Item-Based CF Atribut) - Rata-rata dari {len(results_model2)} film sampel:\")\n",
    "    valid_precisions_m2 = [res.get('Precision@'+str(k_eval), np.nan) for res in results_model2.values()]\n",
    "    valid_recalls_m2 = [res.get('Recall@'+str(k_eval), np.nan) for res in results_model2.values()]\n",
    "\n",
    "    avg_precision_model2 = np.nanmean([p for p in valid_precisions_m2 if not np.isnan(p)]) if any(not np.isnan(p) for p in valid_precisions_m2) else np.nan\n",
    "    avg_recall_model2 = np.nanmean([r for r in valid_recalls_m2 if not np.isnan(r)]) if any(not np.isnan(r) for r in valid_recalls_m2) else np.nan\n",
    "\n",
    "    print(f\"  Rata-rata Precision@{k_eval}: {avg_precision_model2:.2f}\" if not np.isnan(avg_precision_model2) else f\"  Rata-rata Precision@{k_eval}: N/A\")\n",
    "    print(f\"  Rata-rata Recall@{k_eval}: {avg_recall_model2:.2f}\" if not np.isnan(avg_recall_model2) else f\"  Rata-rata Recall@{k_eval}: N/A\")\n",
    "else:\n",
    "    print(\"\\nTidak ada hasil evaluasi untuk Model 2.\")"
   ]
  },
  {
   "cell_type": "markdown",
   "id": "5c3d60b0",
   "metadata": {},
   "source": [
    "### **6.2. Hasil Proyek Berdasarkan Metrik Evaluasi (Utamanya Kualitatif)**\n",
    "\n",
    "**Model 1 (Content-Based - Textual):**\n",
    "-   **Observasi Kualitatif**: Dari contoh rekomendasi yang dihasilkan (jika ada dan berhasil), kita bisa melihat bahwa film-film yang direkomendasikan cenderung memiliki kemiripan kuat dalam hal aktor, sutradara, atau tema cerita yang terkandung dalam deskripsi dan catatan. Misalnya, jika film input adalah film aksi dengan aktor X, rekomendasinya kemungkinan besar juga film aksi lain yang dibintangi aktor X atau memiliki plot dan gaya penceritaan serupa yang ditangkap dari teks.\n",
    "\n",
    "**Model 2 (Collaborative Filtering (Pendekatan Item-Based berbasis Atribut Film)):**\n",
    "-   **Observasi Kualitatif**: Rekomendasi dari model ini akan lebih condong pada film-film yang memiliki skor dimensi (humor, tensi, dll.) yang mirip, serta genre dan `avg_vote` yang serupa. Ini bisa menghasilkan rekomendasi yang berbeda dari Model 1, mungkin lebih fokus pada 'rasa' atau 'mood' film, atau popularitas umum, daripada hanya cerita atau pemeran. Misalnya, dua film thriller dengan tingkat tensi yang sama mungkin direkomendasikan meskipun aktor atau sutradaranya berbeda.\n",
    "\n",
    "**Analisis Perbandingan (Jika Kedua Model Berjalan Baik):**\n",
    "Dengan membandingkan output dari kedua model untuk film input yang sama, kita dapat melihat bagaimana perbedaan fokus fitur (teks vs. atribut numerik/kategorikal) menghasilkan daftar rekomendasi yang berbeda.\n",
    "- Model 1 mungkin lebih baik dalam menemukan sekuel, prekuel, atau film dengan tim kreatif yang sama.\n",
    "- Model 2 mungkin lebih baik dalam menemukan film dengan pengalaman menonton yang serupa meskipun tidak terkait langsung secara naratif atau produksi.\n",
    "Keduanya memiliki potensi untuk memberikan rekomendasi yang berguna, tergantung pada apa yang dicari pengguna (kemiripan cerita vs. kemiripan 'mood' atau rating).\n",
    "\n",
    "**Tantangan Evaluasi Kuantitatif:**\n",
    "Tanpa data interaksi pengguna atau anotasi manual tentang relevansi, perhitungan metrik seperti Precision@k dan Recall@k menjadi spekulatif. Jika diinginkan, metrik proxy berbasis kesamaan genre (seperti yang dijelaskan di 6.1) dapat diimplementasikan sebagai langkah evaluasi kuantitatif sederhana, namun ini tidak akan mencerminkan preferensi pengguna secara menyeluruh.\n",
    "\n",
    "Secara keseluruhan, berdasarkan evaluasi kualitatif, kedua model menunjukkan kemampuan untuk menghasilkan rekomendasi yang relevan berdasarkan kriteria kemiripan yang berbeda. Untuk evaluasi yang lebih komprehensif dan akurat, pengujian A/B dengan pengguna nyata atau penggunaan dataset yang lebih kaya dengan interaksi pengguna (ratings, watch history) akan sangat diperlukan."
   ]
  },
  {
   "cell_type": "markdown",
   "id": "29ff8c57",
   "metadata": {},
   "source": [
    "### **7. Kesimpulan**\n",
    "\n",
    "Proyek ini berhasil mengembangkan dan mengimplementasikan dua model sistem rekomendasi film menggunakan dataset `filmtv_movies.csv`:\n",
    "\n",
    "1.  **Model 1: Content-Based Filtering**: Model ini memanfaatkan fitur tekstual gabungan (`soup`) yang terdiri dari genre, deskripsi, aktor, dan sutradara. Dengan menggunakan TF-IDF dan Cosine Similarity, model ini mampu menemukan film-film yang memiliki kemiripan konten secara tekstual.\n",
    "2.  **Model 2: Collaborative Filtering (Pendekatan Item-Based berbasis Atribut Film)**: Model ini menggunakan kombinasi fitur numerik yang telah dinormalisasi (seperti `avg_vote`, `total_votes`, dan skor dimensi film seperti `humor`, `tension`) dan fitur kategorikal (seperti `genre` yang telah divektorisasi menggunakan TF-IDF). Perhitungan kemiripan antar film juga dilakukan dengan Cosine Similarity pada representasi fitur gabungan ini. Pendekatan ini dipilih sebagai adaptasi dari Item-Based Collaborative Filtering mengingat ketiadaan data interaksi user-item eksplisit dalam dataset.\n",
    "\n",
    "Kedua model yang dikembangkan mampu memberikan rekomendasi top-N film berdasarkan film input. Proses Data Understanding dan Data Preparation, yang mencakup penanganan missing values dan rekayasa fitur (`feature engineering`), terbukti sangat krusial dalam memastikan kualitas fitur yang digunakan untuk tahap pemodelan.\n",
    "\n",
    "Evaluasi model dilakukan secara kualitatif dengan mengobservasi relevansi intuitif dari rekomendasi, dan secara kuantitatif menggunakan metrik Precision@10 dan Recall@10 dengan proxy relevansi berbasis kesamaan genre (minimal satu genre sama).\n",
    "* **Model 1 (Content-Based Textual)** menunjukkan rata-rata Precision@10 sebesar **0.47** dan rata-rata Recall@10 sebesar **0.00** pada pengujian dengan tiga film sampel.\n",
    "* **Model 2 (Item-Based CF Atribut)** menunjukkan performa presisi yang sangat baik dengan rata-rata **Precision@10 mencapai 1.00**, dan rata-rata Recall@10 sebesar **0.01** pada pengujian yang sama.\n",
    "\n",
    "Nilai presisi yang tinggi pada Model 2 (1.00) mengindikasikan bahwa semua rekomendasi teratasnya sangat relevan menurut definisi proxy yang digunakan. Nilai recall yang rendah pada kedua model (terutama dengan k=10) dapat diatribusikan pada luasnya definisi relevansi proxy, besarnya jumlah total film relevan potensial dalam dataset, dan jumlah rekomendasi yang terbatas. Hal ini menunjukkan bahwa model efektif dalam menyajikan beberapa rekomendasi berkualitas tinggi di posisi teratas, meskipun tidak mencakup sebagian besar dari semua kemungkinan item relevan dalam dataset dengan `k` yang kecil.\n",
    "\n",
    "Secara keseluruhan, proyek ini memberikan dasar yang baik untuk pengembangan sistem rekomendasi film lebih lanjut. Pemilihan antara kedua model atau eksplorasi model hybrid dapat dipertimbangkan untuk aplikasi di masa depan, tergantung pada kebutuhan spesifik platform dan preferensi pengguna."
   ]
  }
 ],
 "metadata": {
  "kernelspec": {
   "display_name": "Python 3",
   "language": "python",
   "name": "python3"
  },
  "language_info": {
   "codemirror_mode": {
    "name": "ipython",
    "version": 3
   },
   "file_extension": ".py",
   "mimetype": "text/x-python",
   "name": "python",
   "nbconvert_exporter": "python",
   "pygments_lexer": "ipython3",
   "version": "3.12.3"
  }
 },
 "nbformat": 4,
 "nbformat_minor": 5
}
